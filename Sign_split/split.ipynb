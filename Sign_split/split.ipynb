{
 "cells": [
  {
   "cell_type": "code",
   "execution_count": 10,
   "metadata": {},
   "outputs": [],
   "source": [
    "import json \n",
    "import os\n",
    "from tqdm.auto import tqdm\n",
    "from utils import web_cam, node_json, split_func, visualize\n",
    "import gdown\n",
    "import numpy as np\n",
    "# gdown.download('https://drive.google.com/uc?id=16_Ntdx-Wvn5Lf2F1MmcdGrPasNHwjkin', \n",
    "#                r'model\\epoch 3-4200 weight.pt')\n",
    "# gdown.download('https://drive.google.com/uc?id=1Znb_UM4PmlL-qXY5iBaU9hQcxeQC4OkI',\n",
    "#                'model\\checkpoint.tar')"
   ]
  },
  {
   "cell_type": "code",
   "execution_count": 12,
   "metadata": {},
   "outputs": [
    {
     "name": "stdout",
     "output_type": "stream",
     "text": [
      "[[0, 12], [1, 7], [2, 9], [3, 9], [4, 17], [5, 15], [6, 15], [7, 15], [8, 15], [9, 15], [10, 15], [11, 15], [12, 15], [13, 15], [14, 15], [15, 17], [16, 17], [17, 17], [18, 17], [19, 17], [20, 17], [21, 17], [22, 17], [23, 15], [24, 15], [25, 15], [26, 15], [27, 17], [28, 17], [29, 17], [30, 17], [31, 17], [32, 17], [33, 17], [34, 17], [35, 17], [36, 17], [37, 17], [38, 17], [39, 17], [40, 17], [41, 17], [42, 14], [43, 14], [44, 14], [45, 15], [46, 17], [47, 17], [48, 17], [49, 17], [50, 17], [51, 17], [52, 17], [53, 17], [54, 17], [55, 17], [56, 17], [57, 17], [58, 17], [59, 17], [60, 17], [61, 17], [62, 15], [63, 15], [64, 15], [65, 11], [66, 17], [67, 17], [68, 17], [69, 17], [70, 17], [71, 20], [72, 20], [73, 20], [74, 20], [75, 20], [76, 20], [77, 20], [78, 19], [79, 19], [80, 19], [81, 20], [82, 20], [83, 20], [84, 20], [85, 20], [86, 20], [87, 20], [88, 20], [89, 20], [90, 20], [91, 20], [92, 20], [93, 20], [94, 20], [95, 20], [96, 20], [97, 20], [98, 20], [99, 20], [100, 20], [101, 20], [102, 20], [103, 20], [104, 20], [105, 20], [106, 20], [107, 20], [108, 20], [109, 20], [110, 20], [111, 20], [112, 20], [113, 20], [114, 20], [115, 15], [116, 4], [117, 4], [118, 4], [119, 14], [120, 14], [121, 3], [122, 3], [123, 21], [124, 21], [125, 21], [126, 21], [127, 21], [128, 21], [129, 21], [130, 21], [131, 21], [132, 21], [133, 21], [134, 21], [135, 21], [136, 21], [137, 21], [138, 21], [139, 21], [140, 21], [141, 21], [142, 21], [143, 21], [144, 21], [145, 21], [146, 21], [147, 21], [148, 21], [149, 21], [150, 21], [151, 21], [152, 21], [153, 21], [154, 21], [155, 21], [156, 21], [157, 21], [158, 21], [159, 21], [160, 21], [161, 21], [162, 21], [163, 21], [164, 21], [165, 21], [166, 21], [167, 21], [168, 21], [169, 21], [170, 21], [171, 21], [172, 21], [173, 21], [174, 21], [175, 21], [176, 21], [177, 21], [178, 21], [179, 21], [180, 21], [181, 21], [182, 21], [183, 21], [184, 21], [185, 21], [186, 21], [187, 21], [188, 21], [189, 21], [190, 21], [191, 21], [192, 21], [193, 21], [194, 21], [195, 21], [196, 21], [197, 21], [198, 21], [199, 21], [200, 21], [201, 21], [202, 21], [203, 21], [204, 21], [205, 21], [206, 21], [207, 21], [208, 21], [209, 21], [210, 21], [211, 21], [212, 21], [213, 21], [214, 21], [215, 21], [216, 21], [217, 21], [218, 21], [219, 21], [220, 21], [221, 21], [222, 21], [223, 21], [224, 21], [225, 21], [226, 21], [227, 21], [228, 21], [229, 21], [230, 21], [231, 21], [232, 21], [233, 21], [234, 21], [235, 21], [236, 21], [237, 21], [238, 21], [239, 21], [240, 21], [241, 21], [242, 21], [243, 21], [244, 21], [245, 21], [246, 21], [247, 21], [248, 21], [249, 21], [250, 21], [251, 21], [252, 21], [253, 21], [254, 21], [255, 21]]\n"
     ]
    }
   ],
   "source": [
    "datasetfolder = 'dataset'\n",
    "word = '工作要認真'\n",
    "class_name = word\n",
    "save_folder = os.path.join(datasetfolder, class_name)\n",
    "input_video = os.path.join(save_folder, 'output.mp4')\n",
    "input_json  = os.path.join(save_folder, 'segmented.json')\n",
    "time_mark_path=os.path.join(save_folder, 'time mark.json')\n",
    "output_folder = os.path.join(save_folder, 'results')\n",
    "os.makedirs(save_folder, exist_ok=True)\n",
    "results = []\n",
    "result_path = os.path.join(save_folder,'result.json')\n",
    "with open(result_path,'r') as f:\n",
    "    results =json.load(f)\n",
    "print(results)"
   ]
  },
  {
   "cell_type": "markdown",
   "metadata": {},
   "source": [
    "EXPIEREMENT"
   ]
  },
  {
   "cell_type": "markdown",
   "metadata": {},
   "source": [
    "區段取平均方法"
   ]
  },
  {
   "cell_type": "code",
   "execution_count": 14,
   "metadata": {},
   "outputs": [
    {
     "name": "stdout",
     "output_type": "stream",
     "text": [
      "256\n",
      "[-1, -1, -1, -1, -1, -1, -1, -1, -1, -1, -1, -1, -1, 17, 17, 17, 17, 17, 17, 17, 17, 17, 17, 17, 17, 17, 17, 17, 17, 17, 17, 17, 17, 17, 17, 17, 17, 17, 17, 17, 17, 17, 17, 17, 17, 17, 17, 17, 17, 17, 17, 17, 17, 17, 17, 17, -1, -1, -1, -1, -1, -1, -1, -1, -1, -1, -1, -1, 20, 20, 20, 20, 20, 20, 20, 20, 20, 20, 20, 20, 20, 20, 20, 20, 20, 20, 20, 20, 20, 20, 20, 20, 20, 20, 20, 20, 20, 20, 20, 20, 20, 20, 20, 20, -1, -1, -1, -1, -1, -1, -1, -1, -1, -1, -1, -1, -1, 21, 21, 21, 21, 21, 21, 21, 21, 21, 21, 21, 21, 21, 21, 21, 21, 21, 21, 21, 21, 21, 21, 21, 21, 21, 21, 21, 21, 21, 21, 21, 21, 21, 21, 21, 21, 21, 21, 21, 21, 21, 21, 21, 21, 21, 21, 21, 21, 21, 21, 21, 21, 21, 21, 21, 21, 21, 21, 21, 21, 21, 21, 21, 21, 21, 21, 21, 21, 21, 21, 21, 21, 21, 21, 21, 21, 21, 21, 21, 21, 21, 21, 21, 21, 21, 21, 21, 21, 21, 21, 21, 21, 21, 21, 21, 21, 21, 21, 21, 21, 21, 21, 21, 21, 21, 21, 21, 21, 21, 21, 21, 21, 21, 21, 21, 21, 21, 21, 21, 21, 21]\n",
      "[[15, 70, 58, 17], [71, 114, 47, 20], [123, 255, 139, 21]]\n"
     ]
    }
   ],
   "source": [
    "print(len(results))\n",
    "re=[]\n",
    "fp=18\n",
    "ra=int(fp*0.7)\n",
    "x = 0\n",
    "standard = 0\n",
    "for i in range(0, len(results)-fp):\n",
    "    tmp=[]\n",
    "    for j in range(0, fp):\n",
    "        tmp.append(results[j+i][1])\n",
    "    \n",
    "    tmp=sorted(tmp)\n",
    "    num=tmp.count(tmp[ra])\n",
    "    if num>=ra:\n",
    "        re.append(tmp[ra])\n",
    "    else:\n",
    "        re.append(-1)\n",
    "print(re)\n",
    "\n",
    "b=0\n",
    "ans=[]\n",
    "for i in range(1, len(re)):\n",
    "\n",
    "    if re[i] != re[i-1] :\n",
    "        if i+fp-x-b >= standard and re[i-1]!=-1:\n",
    "            x = 0\n",
    "            y = 0\n",
    "            for o in reversed(range(b,i+fp-x)):\n",
    "                if results[o][1]!=re[i-1]:\n",
    "                    x+=1\n",
    "                    #print([b,i+fp-x-1,i+fp-x-b,re[i-1]])\n",
    "                else:\n",
    "                    break\n",
    "            for o in range(b,i+fp-x):\n",
    "                if results[o][1]!=re[i-1]:\n",
    "                    y+=1\n",
    "                    #print([b,i+fp-x-1,i+fp-x-b,re[i-1]])\n",
    "                else:\n",
    "                    break\n",
    "            #print(x)\n",
    "            ans.append([b+y,i+fp-x-1,i+fp-x-b,re[i-1]])\n",
    "            x=0\n",
    "            y=0\n",
    "        b=i\n",
    "if i+fp-x-b >= standard and re[len(re)-1]!=-1:\n",
    "    x = 0\n",
    "    y = 0\n",
    "    for o in reversed(range(b,len(re)+fp-x)):\n",
    "        if results[o][1]!=re[len(re)-1]:\n",
    "            x+=1\n",
    "            #print([b,i+fp-x-1,i+fp-x-b,re[i-1]])\n",
    "        else:\n",
    "            break\n",
    "    for o in range(b,len(re)+fp-x):\n",
    "        if results[o][1]!=re[len(re)-1]:\n",
    "            y+=1\n",
    "            #print([b,i+fp-x-1,i+fp-x-b,re[i-1]])\n",
    "        else:\n",
    "            break\n",
    "    #print(x)\n",
    "    ans.append([b+y,len(re)+fp-x-1,len(re)+fp-x-b,re[len(re)-1]])\n",
    "    x=0\n",
    "    y=0\n",
    "    \n",
    "print(ans)\n",
    "\n",
    "lists_path = os.path.join(save_folder, 'lists.json')\n",
    "with open(lists_path,'w') as f:\n",
    "    json.dump(ans,f,indent=4)"
   ]
  },
  {
   "cell_type": "markdown",
   "metadata": {},
   "source": [
    "segmented and visualized"
   ]
  },
  {
   "cell_type": "code",
   "execution_count": 15,
   "metadata": {},
   "outputs": [
    {
     "name": "stdout",
     "output_type": "stream",
     "text": [
      "(15, 70)\n",
      "(55, 42, 2)\n",
      "(64, 42, 2) (64, 42, 2)\n",
      "(71, 114)\n",
      "(43, 42, 2)\n",
      "(64, 42, 2) (64, 42, 2)\n",
      "(123, 255)\n",
      "(132, 42, 2)\n",
      "(64, 42, 2) (64, 42, 2)\n"
     ]
    }
   ],
   "source": [
    "for i,thing in enumerate(ans):\n",
    "    output_folder = os.path.join(save_folder,'results')\n",
    "    time_mark = [[thing[0],thing[1]]]\n",
    "    split_func(input_json, output_folder, time_mark , i)\n",
    "    visualize(os.path.join(save_folder,'results',f'result_{i}.json'))"
   ]
  },
  {
   "cell_type": "markdown",
   "metadata": {},
   "source": [
    "~~check continuous~~"
   ]
  },
  {
   "cell_type": "code",
   "execution_count": null,
   "metadata": {},
   "outputs": [],
   "source": [
    "lists = []\n",
    "previous = results[0]\n",
    "for i,item in enumerate(results): #struct = [index,first_place]\n",
    "    if i != 0:\n",
    "        if item[1] == previous[1]:\n",
    "            pass\n",
    "        else:\n",
    "            lists.append([previous[0],item[0]-1,item[0]-previous[0],item[1]])\n",
    "            print((previous[0],item[0]-1,item[0]-previous[0],item[1]))\n",
    "            previous = item\n",
    "        if i == len(results)-1:\n",
    "            lists.append([previous[0],item[0],item[0]-previous[0],item[1]])\n",
    "lists_path = os.path.join(save_folder,'lists.json')\n",
    "with open(lists_path,'w') as f:\n",
    "    json.dump(lists,f,indent=4)"
   ]
  },
  {
   "cell_type": "markdown",
   "metadata": {},
   "source": [
    "~~篩選出above standard~~"
   ]
  },
  {
   "cell_type": "code",
   "execution_count": null,
   "metadata": {},
   "outputs": [],
   "source": [
    "#以下是參數\n",
    "acceptance_standard = 15 #長度在此以上將被採用\n",
    "\n",
    "above_standard = []\n",
    "for i,item in enumerate(lists):\n",
    "    if item[2]>=acceptance_standard:\n",
    "        above_standard.append((i,item))\n",
    "print(above_standard)"
   ]
  },
  {
   "cell_type": "markdown",
   "metadata": {},
   "source": [
    "~~檢查前後~~"
   ]
  },
  {
   "cell_type": "code",
   "execution_count": null,
   "metadata": {},
   "outputs": [],
   "source": [
    "#little_oopsie_standard = 2 #若在長度內，在此以下將被忽略\n",
    "check_range = 7 #在oopsie以外檢查是否為相同手型的範圍\n",
    "\n",
    "moveable_list = lists\n",
    "\n",
    "def isinrange(o):\n",
    "    for q,things in enumerate(lists):\n",
    "        #print(things[0],things[1])\n",
    "        if o<=things[1] and o >= things[0]:\n",
    "            #print(q)\n",
    "            return q\n",
    "\n",
    "output = []\n",
    "\n",
    "for whatever,item in enumerate(above_standard):\n",
    "    print(item)\n",
    "    i = item[0]\n",
    "    for o in range(item[1][0]-check_range,item[1][0]): #ok\n",
    "        #print(results[o])\n",
    "        if results[o][1] == item[1][3]:\n",
    "            moveable_list[i][0] = moveable_list[isinrange(o)][0]\n",
    "            moveable_list[i][2] = moveable_list[i][1] - moveable_list[i][0]\n",
    "            break\n",
    "    for o in range(item[1][0],item[1][1]+check_range):\n",
    "        if results[o][1] == item[1][3]:\n",
    "            moveable_list[i][1] = moveable_list[isinrange(o)][1]\n",
    "            moveable_list[i][2] = moveable_list[i][1] - moveable_list[i][0]\n",
    "            #print(moveable_list[i])\n",
    "            break\n",
    "for whatever,item in enumerate(above_standard):\n",
    "    output.append(moveable_list[item[0]])\n",
    "print(json.dumps(moveable_list,indent=4))\n",
    "print('\\n''')\n",
    "print(json.dumps(output,indent=4))"
   ]
  }
 ],
 "metadata": {
  "kernelspec": {
   "display_name": "SLPT",
   "language": "python",
   "name": "python3"
  },
  "language_info": {
   "codemirror_mode": {
    "name": "ipython",
    "version": 3
   },
   "file_extension": ".py",
   "mimetype": "text/x-python",
   "name": "python",
   "nbconvert_exporter": "python",
   "pygments_lexer": "ipython3",
   "version": "3.9.19"
  }
 },
 "nbformat": 4,
 "nbformat_minor": 2
}
