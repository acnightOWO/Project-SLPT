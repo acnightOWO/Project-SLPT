{
 "cells": [
  {
   "cell_type": "code",
   "execution_count": 3,
   "metadata": {},
   "outputs": [],
   "source": [
    "import cv2\n",
    "import os\n",
    "\n",
    "# 打開影片檔案，或者使用攝像頭（0表示默認攝像頭）\n",
    "def display(video_path):\n",
    "    cap = cv2.VideoCapture(video_path) \n",
    "    while cap.isOpened():\n",
    "        # 讀取一幀\n",
    "        ret, frame = cap.read()\n",
    "        frame = cv2.flip(frame, 1)\n",
    "\n",
    "        # 如果讀取失敗，則退出循環\n",
    "        if not ret:\n",
    "            break\n",
    "\n",
    "        # 顯示當前幀\n",
    "        cv2.imshow(os.path.split(video_path)[1].split('_')[0], frame)\n",
    "\n",
    "        # 按下 'q' 鍵退出循環\n",
    "        if cv2.waitKey(25) & 0xFF == ord('q'):\n",
    "            break\n",
    "\n",
    "    # 釋放資源\n",
    "    cap.release()\n",
    "    cv2.destroyAllWindows()"
   ]
  },
  {
   "cell_type": "code",
   "execution_count": 4,
   "metadata": {},
   "outputs": [
    {
     "ename": "IndexError",
     "evalue": "list index out of range",
     "output_type": "error",
     "traceback": [
      "\u001b[1;31m---------------------------------------------------------------------------\u001b[0m",
      "\u001b[1;31mIndexError\u001b[0m                                Traceback (most recent call last)",
      "\u001b[1;32m~\\AppData\\Local\\Temp\\ipykernel_14984\\3755437732.py\u001b[0m in \u001b[0;36m<module>\u001b[1;34m\u001b[0m\n\u001b[0;32m     13\u001b[0m     \u001b[0mdatasetfolder\u001b[0m \u001b[1;33m=\u001b[0m \u001b[0mschedual\u001b[0m\u001b[1;33m[\u001b[0m\u001b[1;34m'datasetfolder'\u001b[0m\u001b[1;33m]\u001b[0m\u001b[1;33m\u001b[0m\u001b[1;33m\u001b[0m\u001b[0m\n\u001b[0;32m     14\u001b[0m     \u001b[0mclass_list\u001b[0m \u001b[1;33m=\u001b[0m \u001b[0mschedual\u001b[0m\u001b[1;33m[\u001b[0m\u001b[1;34m'class_list'\u001b[0m\u001b[1;33m]\u001b[0m\u001b[1;33m\u001b[0m\u001b[1;33m\u001b[0m\u001b[0m\n\u001b[1;32m---> 15\u001b[1;33m     \u001b[0mvideo_path\u001b[0m \u001b[1;33m=\u001b[0m \u001b[0mschedual\u001b[0m\u001b[1;33m[\u001b[0m\u001b[1;34m'video_path'\u001b[0m\u001b[1;33m]\u001b[0m\u001b[1;33m[\u001b[0m\u001b[0mschedual\u001b[0m\u001b[1;33m[\u001b[0m\u001b[1;34m'pointer'\u001b[0m\u001b[1;33m]\u001b[0m\u001b[1;33m[\u001b[0m\u001b[1;34m'marker'\u001b[0m\u001b[1;33m]\u001b[0m\u001b[1;33m]\u001b[0m\u001b[1;33m\u001b[0m\u001b[1;33m\u001b[0m\u001b[0m\n\u001b[0m\u001b[0;32m     16\u001b[0m     \u001b[0mclass_name\u001b[0m \u001b[1;33m=\u001b[0m \u001b[0mclass_list\u001b[0m\u001b[1;33m[\u001b[0m\u001b[0mschedual\u001b[0m\u001b[1;33m[\u001b[0m\u001b[1;34m'pointer'\u001b[0m\u001b[1;33m]\u001b[0m\u001b[1;33m[\u001b[0m\u001b[1;34m'marker'\u001b[0m\u001b[1;33m]\u001b[0m\u001b[1;33m]\u001b[0m\u001b[1;33m\u001b[0m\u001b[1;33m\u001b[0m\u001b[0m\n\u001b[0;32m     17\u001b[0m     \u001b[0mdisplay\u001b[0m\u001b[1;33m(\u001b[0m\u001b[0mos\u001b[0m\u001b[1;33m.\u001b[0m\u001b[0mpath\u001b[0m\u001b[1;33m.\u001b[0m\u001b[0mjoin\u001b[0m\u001b[1;33m(\u001b[0m\u001b[0mvideo_dir\u001b[0m\u001b[1;33m,\u001b[0m \u001b[0mvideo_path\u001b[0m\u001b[1;33m)\u001b[0m\u001b[1;33m)\u001b[0m\u001b[1;33m\u001b[0m\u001b[1;33m\u001b[0m\u001b[0m\n",
      "\u001b[1;31mIndexError\u001b[0m: list index out of range"
     ]
    }
   ],
   "source": [
    "import json \n",
    "from utils import clear_folder\n",
    "import os\n",
    "from tqdm.auto import tqdm\n",
    "\n",
    "from utils_cam import web_cam\n",
    "video_dir = 'D:\\Project Sekai\\webdriver\\in sentence 230' \n",
    "\n",
    "while True:\n",
    "    \n",
    "    with open('schedual.json','r', encoding='utf8') as fp:\n",
    "        schedual = json.load(fp)\n",
    "    datasetfolder = schedual['datasetfolder']\n",
    "    class_list = schedual['class_list']\n",
    "    video_path = schedual['video_path'][schedual['pointer']['marker']]\n",
    "    class_name = class_list[schedual['pointer']['marker']]\n",
    "    display(os.path.join(video_dir, video_path))"
   ]
  }
 ],
 "metadata": {
  "kernelspec": {
   "display_name": "base",
   "language": "python",
   "name": "python3"
  },
  "language_info": {
   "codemirror_mode": {
    "name": "ipython",
    "version": 3
   },
   "file_extension": ".py",
   "mimetype": "text/x-python",
   "name": "python",
   "nbconvert_exporter": "python",
   "pygments_lexer": "ipython3",
   "version": "3.9.13"
  }
 },
 "nbformat": 4,
 "nbformat_minor": 2
}
