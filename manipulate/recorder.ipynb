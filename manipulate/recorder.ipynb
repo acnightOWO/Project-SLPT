{
 "cells": [
  {
   "cell_type": "code",
   "execution_count": 1,
   "metadata": {},
   "outputs": [],
   "source": [
    "import json \n",
    "from utils import clear_folder\n",
    "import os\n",
    "from tqdm.auto import tqdm\n",
    "import keyboard\n",
    "import time\n",
    "\n",
    "from utils_cam import web_cam, node_json, split_json, visualize, web_cam_photo"
   ]
  },
  {
   "cell_type": "code",
   "execution_count": 4,
   "metadata": {},
   "outputs": [
    {
     "name": "stdout",
     "output_type": "stream",
     "text": [
      "record\n",
      "62 63\n",
      "(1, 42, 2)\n",
      "(64, 42, 2) (32, 42, 2)\n"
     ]
    },
    {
     "ename": "",
     "evalue": "",
     "output_type": "error",
     "traceback": [
      "\u001b[1;31m在目前儲存格或上一個儲存格中執行程式碼時，Kernel 已損毀。\n",
      "\u001b[1;31m請檢閱儲存格中的程式碼，找出失敗的可能原因。\n",
      "\u001b[1;31m如需詳細資訊，請按一下<a href='https://aka.ms/vscodeJupyterKernelCrash'>這裡</a>。\n",
      "\u001b[1;31m如需詳細資料，請檢視 Jupyter <a href='command:jupyter.viewOutput'>記錄</a>。"
     ]
    }
   ],
   "source": [
    "with open('schedual.json','r', encoding='utf8') as fp:\n",
    "    schedual = json.load(fp)\n",
    "\n",
    "datasetfolder = schedual['datasetfolder']\n",
    "class_list = schedual['class_list']\n",
    "video_path = schedual['video_path']\n",
    "class_name = class_list[schedual['pointer']['marker']]\n",
    "print(class_name)\n",
    "\n",
    "\n",
    "# # clear_folder(rf'{datasetfolder}\\{class_name}\\{class_name}')\n",
    "save_folder = os.path.join(datasetfolder, class_name)\n",
    "input_video = os.path.join(save_folder, 'output.mp4')\n",
    "input_json  = os.path.join(save_folder, 'nodes.json')\n",
    "time_mark_path=os.path.join(save_folder, 'time mark.json')\n",
    "output_folder = os.path.join(save_folder, class_name)\n",
    "os.makedirs(save_folder, exist_ok=True)\n",
    "input_video = r\"C:\\Users\\Huang\\Downloads\\Taiwan.mp4\"\n",
    "# web_cam(save_folder=save_folder, break_time=0.5)\n",
    "# web_cam_photo(img_path=img_path,save_folder=save_folder)\n",
    "node_json(input_video, save_folder)\n",
    "split_json(input_json, output_folder, time_mark_path)\n",
    "json_path = os.path.join(f'{datasetfolder}\\{class_name}\\{class_name}',os.listdir(f'{datasetfolder}\\{class_name}\\{class_name}')[-1])\n",
    "visualize(json_path, 32)\n"
   ]
  },
  {
   "cell_type": "markdown",
   "metadata": {},
   "source": [
    "# next"
   ]
  },
  {
   "cell_type": "code",
   "execution_count": 45,
   "metadata": {},
   "outputs": [
    {
     "ename": "IndexError",
     "evalue": "list index out of range",
     "output_type": "error",
     "traceback": [
      "\u001b[1;31m---------------------------------------------------------------------------\u001b[0m",
      "\u001b[1;31mIndexError\u001b[0m                                Traceback (most recent call last)",
      "\u001b[1;32m~\\AppData\\Local\\Temp\\ipykernel_29068\\1217406996.py\u001b[0m in \u001b[0;36m<module>\u001b[1;34m\u001b[0m\n\u001b[0;32m      2\u001b[0m \u001b[1;32mwith\u001b[0m \u001b[0mopen\u001b[0m\u001b[1;33m(\u001b[0m\u001b[1;34m'schedual.json'\u001b[0m\u001b[1;33m,\u001b[0m \u001b[1;34m'w'\u001b[0m\u001b[1;33m)\u001b[0m \u001b[1;32mas\u001b[0m \u001b[0mfp\u001b[0m\u001b[1;33m:\u001b[0m\u001b[1;33m\u001b[0m\u001b[1;33m\u001b[0m\u001b[0m\n\u001b[0;32m      3\u001b[0m     \u001b[0mjson\u001b[0m\u001b[1;33m.\u001b[0m\u001b[0mdump\u001b[0m\u001b[1;33m(\u001b[0m\u001b[0mschedual\u001b[0m \u001b[1;33m,\u001b[0m\u001b[0mfp\u001b[0m\u001b[1;33m,\u001b[0m \u001b[0mensure_ascii\u001b[0m\u001b[1;33m=\u001b[0m\u001b[1;32mFalse\u001b[0m\u001b[1;33m)\u001b[0m\u001b[1;33m\u001b[0m\u001b[1;33m\u001b[0m\u001b[0m\n\u001b[1;32m----> 4\u001b[1;33m \u001b[0mclass_name\u001b[0m \u001b[1;33m=\u001b[0m \u001b[0mclass_list\u001b[0m\u001b[1;33m[\u001b[0m\u001b[0mschedual\u001b[0m\u001b[1;33m[\u001b[0m\u001b[1;34m'pointer'\u001b[0m\u001b[1;33m]\u001b[0m\u001b[1;33m[\u001b[0m\u001b[1;34m'marker'\u001b[0m\u001b[1;33m]\u001b[0m\u001b[1;33m]\u001b[0m\u001b[1;33m\u001b[0m\u001b[1;33m\u001b[0m\u001b[0m\n\u001b[0m\u001b[0;32m      5\u001b[0m \u001b[0mprint\u001b[0m\u001b[1;33m(\u001b[0m\u001b[0mclass_name\u001b[0m\u001b[1;33m)\u001b[0m\u001b[1;33m\u001b[0m\u001b[1;33m\u001b[0m\u001b[0m\n",
      "\u001b[1;31mIndexError\u001b[0m: list index out of range"
     ]
    }
   ],
   "source": [
    "schedual['pointer']['marker'] = schedual['pointer']['marker']+1\n",
    "with open('schedual.json', 'w') as fp:\n",
    "    json.dump(schedual ,fp, ensure_ascii=False)\n",
    "class_name = class_list[schedual['pointer']['marker']]\n",
    "print(class_name)"
   ]
  },
  {
   "cell_type": "markdown",
   "metadata": {},
   "source": [
    "# previous"
   ]
  },
  {
   "cell_type": "code",
   "execution_count": 83,
   "metadata": {},
   "outputs": [],
   "source": [
    "schedual['pointer']['marker'] = schedual['pointer']['marker']-1\n",
    "with open('schedual.json', 'w') as fp:\n",
    "    json.dump(schedual ,fp, ensure_ascii=False)"
   ]
  }
 ],
 "metadata": {
  "kernelspec": {
   "display_name": "base",
   "language": "python",
   "name": "python3"
  },
  "language_info": {
   "codemirror_mode": {
    "name": "ipython",
    "version": 3
   },
   "file_extension": ".py",
   "mimetype": "text/x-python",
   "name": "python",
   "nbconvert_exporter": "python",
   "pygments_lexer": "ipython3",
   "version": "3.9.13"
  }
 },
 "nbformat": 4,
 "nbformat_minor": 2
}
