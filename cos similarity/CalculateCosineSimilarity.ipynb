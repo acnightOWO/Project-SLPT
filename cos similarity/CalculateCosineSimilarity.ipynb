{
 "cells": [
  {
   "cell_type": "markdown",
   "metadata": {},
   "source": [
    "# model"
   ]
  },
  {
   "cell_type": "code",
   "execution_count": 3,
   "metadata": {},
   "outputs": [],
   "source": [
    "import json \n",
    "import torch\n",
    "import torchvision\n",
    "from torch import nn\n",
    "\n",
    "from tqdm.auto import tqdm\n",
    "from utils import buit_eval_model, load_json, clear_folder, split_json, judge\n",
    "import os\n",
    "from model import MAE\n",
    "import numpy as np\n",
    "from utils_cam import web_cam, node_json, visualize\n",
    "model_path = 'D:\\google drive\\MAE Bs PJ\\state_dict\\epoch 3-4200 weight.pt'\n",
    "CHECKPOINT_PATH = 'checkpoint.tar'\n",
    "\n",
    "checkpoint = torch.load(CHECKPOINT_PATH)\n",
    "step = checkpoint['step']\n",
    "mean = checkpoint['mean']\n",
    "std = checkpoint['std']\n",
    "sample_num = 100\n",
    "model = buit_eval_model(model_path)"
   ]
  },
  {
   "cell_type": "code",
   "execution_count": 8,
   "metadata": {},
   "outputs": [],
   "source": [
    "class_name = 'record'"
   ]
  },
  {
   "cell_type": "code",
   "execution_count": 9,
   "metadata": {},
   "outputs": [],
   "source": [
    "clear_folder(rf'dataset\\{class_name}\\{class_name}')\n",
    "save_folder = os.path.join('dataset', class_name)\n",
    "input_video = os.path.join(save_folder, 'output.mp4')\n",
    "input_json  = os.path.join(save_folder, 'nodes.json')\n",
    "time_mark_path=os.path.join(save_folder, 'time mark.json')\n",
    "output_folder = os.path.join(save_folder, class_name)\n",
    "os.makedirs(save_folder, exist_ok=True)"
   ]
  },
  {
   "cell_type": "code",
   "execution_count": 10,
   "metadata": {},
   "outputs": [],
   "source": [
    "json_path = rf'dataset\\{class_name}\\{class_name}\\segment_0.json'"
   ]
  },
  {
   "cell_type": "code",
   "execution_count": 11,
   "metadata": {},
   "outputs": [
    {
     "name": "stdout",
     "output_type": "stream",
     "text": [
      "107 108\n",
      "(61, 42, 2)\n"
     ]
    }
   ],
   "source": [
    "web_cam(save_folder=save_folder)\n",
    "node_json(input_video, save_folder ,show=True)\n",
    "split_json(input_json, output_folder, time_mark_path)"
   ]
  },
  {
   "cell_type": "code",
   "execution_count": 9,
   "metadata": {},
   "outputs": [],
   "source": [
    "vector_list = []\n",
    "x = load_json(json_path, mean, std, augment=False).to('cuda')\n",
    "prediction = model(x)\n",
    "vector_list.append(prediction.squeeze().tolist())"
   ]
  },
  {
   "cell_type": "code",
   "execution_count": 12,
   "metadata": {},
   "outputs": [
    {
     "ename": "FileNotFoundError",
     "evalue": "[Errno 2] No such file or directory: 'dataset\\\\record\\\\record\\\\segment_0.json'",
     "output_type": "error",
     "traceback": [
      "\u001b[1;31m---------------------------------------------------------------------------\u001b[0m",
      "\u001b[1;31mFileNotFoundError\u001b[0m                         Traceback (most recent call last)",
      "\u001b[1;32m~\\AppData\\Local\\Temp\\ipykernel_24008\\2067834041.py\u001b[0m in \u001b[0;36m<module>\u001b[1;34m\u001b[0m\n\u001b[1;32m----> 1\u001b[1;33m \u001b[0mvisualize\u001b[0m\u001b[1;33m(\u001b[0m\u001b[0mjson_path\u001b[0m\u001b[1;33m)\u001b[0m\u001b[1;33m\u001b[0m\u001b[1;33m\u001b[0m\u001b[0m\n\u001b[0m",
      "\u001b[1;32md:\\Project Sekai\\cos similarity\\utils_cam.py\u001b[0m in \u001b[0;36mvisualize\u001b[1;34m(input_file)\u001b[0m\n\u001b[0;32m    245\u001b[0m \u001b[1;33m\u001b[0m\u001b[0m\n\u001b[0;32m    246\u001b[0m \u001b[1;32mdef\u001b[0m \u001b[0mvisualize\u001b[0m\u001b[1;33m(\u001b[0m\u001b[0minput_file\u001b[0m\u001b[1;33m)\u001b[0m\u001b[1;33m:\u001b[0m\u001b[1;33m\u001b[0m\u001b[1;33m\u001b[0m\u001b[0m\n\u001b[1;32m--> 247\u001b[1;33m     \u001b[1;32mwith\u001b[0m \u001b[0mopen\u001b[0m\u001b[1;33m(\u001b[0m\u001b[0minput_file\u001b[0m\u001b[1;33m,\u001b[0m \u001b[1;34m'r'\u001b[0m\u001b[1;33m)\u001b[0m \u001b[1;32mas\u001b[0m \u001b[0mf\u001b[0m\u001b[1;33m:\u001b[0m\u001b[1;33m\u001b[0m\u001b[1;33m\u001b[0m\u001b[0m\n\u001b[0m\u001b[0;32m    248\u001b[0m         \u001b[0mcoordinates\u001b[0m \u001b[1;33m=\u001b[0m \u001b[0mjson\u001b[0m\u001b[1;33m.\u001b[0m\u001b[0mload\u001b[0m\u001b[1;33m(\u001b[0m\u001b[0mf\u001b[0m\u001b[1;33m)\u001b[0m\u001b[1;33m\u001b[0m\u001b[1;33m\u001b[0m\u001b[0m\n\u001b[0;32m    249\u001b[0m     \u001b[0mcoordinates\u001b[0m \u001b[1;33m=\u001b[0m \u001b[0mnp\u001b[0m\u001b[1;33m.\u001b[0m\u001b[0marray\u001b[0m\u001b[1;33m(\u001b[0m\u001b[0mcoordinates\u001b[0m\u001b[1;33m)\u001b[0m\u001b[1;33m\u001b[0m\u001b[1;33m\u001b[0m\u001b[0m\n",
      "\u001b[1;31mFileNotFoundError\u001b[0m: [Errno 2] No such file or directory: 'dataset\\\\record\\\\record\\\\segment_0.json'"
     ]
    }
   ],
   "source": [
    "visualize(json_path)"
   ]
  },
  {
   "cell_type": "markdown",
   "metadata": {},
   "source": [
    "# calculate cosine_similarity"
   ]
  },
  {
   "cell_type": "code",
   "execution_count": 11,
   "metadata": {},
   "outputs": [],
   "source": [
    "from utils import cosine_similarity\n",
    "import matplotlib.pyplot as plt\n",
    "import json\n",
    "plt.rcParams['font.sans-serif'] = ['Microsoft JhengHei'] # 修改中文字體\n",
    "plt.rcParams['axes.unicode_minus'] = False # 顯示負號"
   ]
  },
  {
   "cell_type": "code",
   "execution_count": 12,
   "metadata": {},
   "outputs": [],
   "source": [
    "def sort(array1, array2):\n",
    "    pair = []\n",
    "    paired_arrays = list(zip(array1, array2))\n",
    "    sorted_arrays = sorted(paired_arrays, key=lambda x: x[0], reverse=True)\n",
    "    sorted_array1, sorted_array2 = zip(*sorted_arrays)\n",
    "\n",
    "    for item in zip(sorted_array1, sorted_array2):\n",
    "        pair.append(item)\n",
    "    return pair\n",
    "\n",
    "def show_boxplot(x, labels, title):\n",
    "    plt.figure(figsize=(16, 6))\n",
    "    plt.boxplot(x, labels=labels)\n",
    "    plt.title(title)\n",
    "    plt.show()"
   ]
  },
  {
   "cell_type": "code",
   "execution_count": 13,
   "metadata": {},
   "outputs": [],
   "source": [
    "# def calculate_cosine_similarity(vector, feature_path = 'feature.json'):\n",
    "#     with open(feature_path, 'r') as f:\n",
    "#         class_features = json.load(f)\n",
    "#     id_vector = [value for value in class_features.items()]\n",
    "#     similarity_list, id_list = [], []\n",
    "#     for id, vector_i in id_vector:\n",
    "#         # print(np.mean(np.array(vector),0).shape, np.mean(np.array(vector_i),0).shape)\n",
    "#         similarity_list.append(round(cosine_similarity(vector1=np.mean(np.array(vector),0),\n",
    "#                                                        vector2=np.mean(np.array(vector_i),0)), 4))\n",
    "#         id_list.append(id)\n",
    "#         # print(round(cosine_similarity(vector1=np.array(vector1), vector2=np.array(vector2)), 4), id)\n",
    "#     return sort(similarity_list, id_list)"
   ]
  },
  {
   "cell_type": "code",
   "execution_count": 14,
   "metadata": {},
   "outputs": [],
   "source": [
    "def calculate_cosine_similarity(vector, class_features):\n",
    "    id_vector = [value for value in class_features.items()]\n",
    "    similarity_list, id_list = [], []\n",
    "    for id, vector_i in id_vector:\n",
    "        # print(id, len(vector_i))\n",
    "        container = []\n",
    "        for feature_i in vector_i:\n",
    "            container.append(cosine_similarity(vector1=np.array(vector), vector2=np.array(feature_i)))\n",
    "\n",
    "        similarity_list.append(container)\n",
    "        id_list.append(id)\n",
    "    return similarity_list, id_list\n",
    "\n",
    "def sort_list(similarity_list, id_list):\n",
    "    max_list = []\n",
    "    for container in similarity_list:\n",
    "        max_list.append(max(container))\n",
    "        \n",
    "    return sort(max_list, id_list)\n"
   ]
  },
  {
   "cell_type": "code",
   "execution_count": 15,
   "metadata": {},
   "outputs": [],
   "source": [
    "with open('delete_list.json', 'r') as f:\n",
    "    delete_List = json.load(f)\n",
    "\n",
    "with open(r'features\\expriment.json', 'r') as f:\n",
    "    expriment_features = json.load(f)\n",
    "for tag in delete_List:\n",
    "    try:\n",
    "        del expriment_features[tag]\n",
    "    except:\n",
    "        pass\n",
    "\n",
    "id_vector = [value for value in expriment_features.items()]\n",
    "\n",
    "with open(r'features\\feature.json', 'r') as f:\n",
    "    class_features = json.load(f)\n",
    "for tag in delete_List:\n",
    "    try:\n",
    "        del class_features[tag]\n",
    "    except:\n",
    "        pass"
   ]
  },
  {
   "cell_type": "code",
   "execution_count": 7,
   "metadata": {},
   "outputs": [
    {
     "data": {
      "application/vnd.jupyter.widget-view+json": {
       "model_id": "4e6672ef570e40baa9c66f7417f4e5a9",
       "version_major": 2,
       "version_minor": 0
      },
      "text/plain": [
       "  0%|          | 0/168 [00:00<?, ?it/s]"
      ]
     },
     "metadata": {},
     "output_type": "display_data"
    }
   ],
   "source": [
    "matrix = []\n",
    "for id, vector_list in tqdm(id_vector):\n",
    "    for i, vector_i in enumerate(vector_list):\n",
    "        similarity_list, id_list = calculate_cosine_similarity(vector_i, class_features)\n",
    "\n",
    "        # show_boxplot(similarity_list, id_list, f'{id}-{i}')\n",
    "        # print(vector_i, class_features)\n",
    "        x = sort_list(similarity_list, id_list)\n",
    "        # rank = [item[1] for item in x]\n",
    "        matrix.append({'index':i,'tag':id,'list':x})"
   ]
  },
  {
   "cell_type": "code",
   "execution_count": 16,
   "metadata": {},
   "outputs": [],
   "source": [
    "matrix = []\n",
    "similarity_list, id_list = calculate_cosine_similarity(vector_list, class_features)\n",
    "\n",
    "x = sort_list(similarity_list, id_list)\n",
    "matrix.append({'index':0,'list':x})"
   ]
  },
  {
   "cell_type": "code",
   "execution_count": 18,
   "metadata": {},
   "outputs": [
    {
     "data": {
      "text/plain": [
       "[{'index': 0,\n",
       "  'list': [(array([0.99566155]), '做'),\n",
       "   (array([0.93879668]), '不會'),\n",
       "   (array([0.90864694]), '每'),\n",
       "   (array([0.90094472]), '賣'),\n",
       "   (array([0.89806708]), '第一名'),\n",
       "   (array([0.89442758]), '每天'),\n",
       "   (array([0.89344382]), '教'),\n",
       "   (array([0.89074071]), '明年'),\n",
       "   (array([0.88982033]), '設計'),\n",
       "   (array([0.88809066]), '裡'),\n",
       "   (array([0.88651692]), '演講'),\n",
       "   (array([0.8861461]), '考試'),\n",
       "   (array([0.88591558]), '溝通'),\n",
       "   (array([0.8847501]), '報紙'),\n",
       "   (array([0.88422778]), '學習'),\n",
       "   (array([0.8821676]), '住'),\n",
       "   (array([0.88010928]), '習慣'),\n",
       "   (array([0.8789945]), '對'),\n",
       "   (array([0.87877741]), '努力'),\n",
       "   (array([0.87715117]), '注意'),\n",
       "   (array([0.87335505]), '會'),\n",
       "   (array([0.87074149]), '消遣'),\n",
       "   (array([0.86842972]), '森林'),\n",
       "   (array([0.86534544]), '比較'),\n",
       "   (array([0.86009468]), '比賽'),\n",
       "   (array([0.85645346]), '其中'),\n",
       "   (array([0.85217024]), '飲料'),\n",
       "   (array([0.84750718]), '會議'),\n",
       "   (array([0.84670488]), '累'),\n",
       "   (array([0.84244917]), '寫'),\n",
       "   (array([0.83749192]), '年'),\n",
       "   (array([0.83353538]), '吃飯'),\n",
       "   (array([0.83143758]), '郵票'),\n",
       "   (array([0.81863906]), '保護'),\n",
       "   (array([0.81620305]), '路'),\n",
       "   (array([0.81539696]), '安靜'),\n",
       "   (array([0.81491146]), '電影'),\n",
       "   (array([0.81235383]), '目的'),\n",
       "   (array([0.81021253]), '票'),\n",
       "   (array([0.80959577]), '開車'),\n",
       "   (array([0.80646136]), '結婚'),\n",
       "   (array([0.80360081]), '參加'),\n",
       "   (array([0.79825831]), '數學'),\n",
       "   (array([0.797539]), '乾淨'),\n",
       "   (array([0.79440322]), '程度'),\n",
       "   (array([0.79049319]), '建設'),\n",
       "   (array([0.78974278]), '未來'),\n",
       "   (array([0.78935493]), '事情'),\n",
       "   (array([0.78778046]), '健康'),\n",
       "   (array([0.78759261]), '契約'),\n",
       "   (array([0.78571042]), '一樣'),\n",
       "   (array([0.78158015]), '多'),\n",
       "   (array([0.78083944]), '發生'),\n",
       "   (array([0.77638994]), '今天'),\n",
       "   (array([0.77201984]), '結束'),\n",
       "   (array([0.76892524]), '張'),\n",
       "   (array([0.7687452]), '問題'),\n",
       "   (array([0.75151964]), '進步'),\n",
       "   (array([0.7425325]), '邊'),\n",
       "   (array([0.74118145]), '出'),\n",
       "   (array([0.73872623]), '直'),\n",
       "   (array([0.7383586]), '全部'),\n",
       "   (array([0.73306741]), '讀書'),\n",
       "   (array([0.73265832]), '現在'),\n",
       "   (array([0.7323941]), '學生'),\n",
       "   (array([0.72698551]), '帶'),\n",
       "   (array([0.72075672]), '家'),\n",
       "   (array([0.71702134]), '負責'),\n",
       "   (array([0.71026596]), '回家'),\n",
       "   (array([0.70402363]), '時間'),\n",
       "   (array([0.70179331]), '學校'),\n",
       "   (array([0.70093994]), '房子'),\n",
       "   (array([0.69144555]), '大'),\n",
       "   (array([0.68553268]), '表格'),\n",
       "   (array([0.6828179]), '土'),\n",
       "   (array([0.66085446]), '銀行'),\n",
       "   (array([0.65445351]), '睡'),\n",
       "   (array([0.64748439]), '紙'),\n",
       "   (array([0.64392959]), '小孩'),\n",
       "   (array([0.64355043]), '瘦'),\n",
       "   (array([0.63682584]), '運動'),\n",
       "   (array([0.63431838]), '熱'),\n",
       "   (array([0.62503212]), '常常'),\n",
       "   (array([0.62248057]), '正'),\n",
       "   (array([0.59145421]), '玩'),\n",
       "   (array([0.58781966]), '遲到'),\n",
       "   (array([0.52236867]), '狗'),\n",
       "   (array([0.47937841]), '下雨'),\n",
       "   (array([0.25342658]), '警察'),\n",
       "   (array([0.25309274]), '記得'),\n",
       "   (array([0.25171222]), '複雜'),\n",
       "   (array([0.25148723]), '聽'),\n",
       "   (array([0.24944624]), '明天'),\n",
       "   (array([0.24411604]), '想'),\n",
       "   (array([0.23988736]), '唱歌'),\n",
       "   (array([0.23719407]), '贏'),\n",
       "   (array([0.23709501]), '爸爸'),\n",
       "   (array([0.2370712]), '依然'),\n",
       "   (array([0.23396136]), '以前'),\n",
       "   (array([0.23389447]), '臉'),\n",
       "   (array([0.22877638]), '病'),\n",
       "   (array([0.22825087]), '我們'),\n",
       "   (array([0.22792975]), '看'),\n",
       "   (array([0.22736057]), '昨天'),\n",
       "   (array([0.22716908]), '棒'),\n",
       "   (array([0.2261671]), '找'),\n",
       "   (array([0.22576725]), '喝'),\n",
       "   (array([0.2236459]), '好'),\n",
       "   (array([0.22286977]), '不能'),\n",
       "   (array([0.22273955]), '希望'),\n",
       "   (array([0.21854513]), '聞'),\n",
       "   (array([0.21798523]), '刷牙'),\n",
       "   (array([0.21769953]), '新'),\n",
       "   (array([0.21707704]), '欣賞'),\n",
       "   (array([0.21690321]), '飛機'),\n",
       "   (array([0.21629146]), '水果'),\n",
       "   (array([0.21628476]), '不'),\n",
       "   (array([0.21603766]), '台灣'),\n",
       "   (array([0.21566668]), '香'),\n",
       "   (array([0.21318691]), '去'),\n",
       "   (array([0.21294334]), '髒'),\n",
       "   (array([0.21174947]), '旅行'),\n",
       "   (array([0.21140829]), '男'),\n",
       "   (array([0.21006373]), '不行'),\n",
       "   (array([0.20857354]), '手機'),\n",
       "   (array([0.20687168]), '眼睛'),\n",
       "   (array([0.2067669]), '這'),\n",
       "   (array([0.20637786]), '喜歡'),\n",
       "   (array([0.2059462]), '我'),\n",
       "   (array([0.20507353]), '吃'),\n",
       "   (array([0.20463929]), '請'),\n",
       "   (array([0.20422813]), '舒服'),\n",
       "   (array([0.20334175]), '口'),\n",
       "   (array([0.20323932]), '走'),\n",
       "   (array([0.20265345]), '壞'),\n",
       "   (array([0.20222714]), '什麼'),\n",
       "   (array([0.20204364]), '他們'),\n",
       "   (array([0.20195584]), '花'),\n",
       "   (array([0.20181725]), '身體'),\n",
       "   (array([0.2018102]), '做不成'),\n",
       "   (array([0.20161178]), '是'),\n",
       "   (array([0.20131939]), '你'),\n",
       "   (array([0.20107809]), '拿'),\n",
       "   (array([0.20104959]), '可以'),\n",
       "   (array([0.2005058]), '有'),\n",
       "   (array([0.20019385]), '兩個'),\n",
       "   (array([0.19964043]), '下一個'),\n",
       "   (array([0.19903264]), '笑'),\n",
       "   (array([0.19902365]), '奇怪'),\n",
       "   (array([0.1989021]), '等'),\n",
       "   (array([0.1981091]), '很'),\n",
       "   (array([0.19757302]), '他'),\n",
       "   (array([0.19669312]), '綠'),\n",
       "   (array([0.19638993]), '我倆'),\n",
       "   (array([0.19588821]), '來'),\n",
       "   (array([0.19505522]), '不好'),\n",
       "   (array([0.19472439]), '他倆'),\n",
       "   (array([0.19396709]), '輸'),\n",
       "   (array([0.19254386]), '開花'),\n",
       "   (array([0.1924978]), '不要'),\n",
       "   (array([0.19108211]), '弟弟'),\n",
       "   (array([0.18986945]), '貴'),\n",
       "   (array([0.18908077]), '老師'),\n",
       "   (array([0.18735136]), '剛剛'),\n",
       "   (array([0.185951]), '錢'),\n",
       "   (array([0.18364207]), '怕'),\n",
       "   (array([0.18163622]), '我們兩個'),\n",
       "   (array([0.17774755]), '自己')]}]"
      ]
     },
     "execution_count": 18,
     "metadata": {},
     "output_type": "execute_result"
    }
   ],
   "source": [
    "matrix"
   ]
  },
  {
   "cell_type": "code",
   "execution_count": null,
   "metadata": {},
   "outputs": [],
   "source": [
    "with open('matrix/matrix.json','w') as f:\n",
    "    json.dump(matrix,f,ensure_ascii=False) "
   ]
  },
  {
   "cell_type": "code",
   "execution_count": 2,
   "metadata": {},
   "outputs": [],
   "source": [
    "with open('matrix/matrix-phonetic notation2.json','r', encoding='utf8') as f:\n",
    "    matrix = json.load(f) "
   ]
  },
  {
   "cell_type": "code",
   "execution_count": 6,
   "metadata": {},
   "outputs": [],
   "source": [
    "y_pred = []\n",
    "y_true = []\n",
    "for item in matrix:\n",
    "    y_pred.append(item['list'][0][1])\n",
    "    y_true.append(item['tag'])"
   ]
  },
  {
   "cell_type": "code",
   "execution_count": 4,
   "metadata": {},
   "outputs": [
    {
     "name": "stdout",
     "output_type": "stream",
     "text": [
      "{'index': 0, 'tag': 'ㄅ', 'list': [[0.9968513017305505, 'ㄅ'], [0.9938230873497902, 'ㄓ'], [0.9806225559357621, 'ㄘ'], [0.979468289407178, 'ㄣ'], [0.9775037539241618, 'ㄖ'], [0.9772517158909886, 'ㄨ'], [0.9765616104086747, 'ㄇ'], [0.9732033567834317, 'ㄦ'], [0.9718684660340462, 'ㄜ'], [0.9686919328632404, 'ㄍ'], [0.9673749835028557, 'ㄛ'], [0.9611782163037081, 'ㄩ'], [0.9596268143657881, 'ㄟ'], [0.9582269462767673, 'ㄐ'], [0.9569394671515441, 'ㄎ'], [0.9564386997162239, 'ㄔ'], [0.9557740519368675, 'ㄋ'], [0.9555779770141399, 'ㄝ'], [0.9555607632477646, 'ㄉ'], [0.9523708903463929, 'ㄡ'], [0.9505770589298035, 'ㄊ'], [0.9505211353723687, 'ㄗ'], [0.9503674192582594, 'ㄈ'], [0.9500977860009115, 'ㄕ'], [0.9484845766615264, 'ㄙ'], [0.947817550274839, 'ㄢ'], [0.9406539742187993, 'ㄆ'], [0.9404112160177074, 'ㄌ'], [0.9360370433518681, 'ㄚ'], [0.928865467560288, 'ㄑ'], [0.9272284566925334, 'ㄧ'], [0.926793604137879, 'ㄞ'], [0.9266792180005313, 'ㄠ'], [0.9187126680536671, 'ㄥ'], [0.9051131699327876, 'ㄤ'], [0.8979830097288696, 'ㄒ'], [0.8616028507109879, 'ㄏ']]}\n",
      "{'index': 1, 'tag': 'ㄅ', 'list': [[0.9972957841102597, 'ㄅ'], [0.9941349470011119, 'ㄓ'], [0.9795784256323525, 'ㄘ'], [0.9769345240845236, 'ㄣ'], [0.9741816103119445, 'ㄨ'], [0.974109640439883, 'ㄖ'], [0.9718760952545477, 'ㄇ'], [0.9694922007033299, 'ㄦ'], [0.9685272786794135, 'ㄜ'], [0.963915299924204, 'ㄍ'], [0.9621127341982493, 'ㄛ'], [0.9558987160220057, 'ㄩ'], [0.9542649284267997, 'ㄟ'], [0.9529110474608713, 'ㄐ'], [0.9517229416542903, 'ㄎ'], [0.9508586377031133, 'ㄔ'], [0.9501728313780873, 'ㄝ'], [0.9499752927048093, 'ㄉ'], [0.9493965979205515, 'ㄋ'], [0.9455628704332639, 'ㄡ'], [0.9444320918144415, 'ㄗ'], [0.944010020821953, 'ㄕ'], [0.9436213346688579, 'ㄊ'], [0.943422113107718, 'ㄈ'], [0.9413698397332841, 'ㄙ'], [0.9401455436972241, 'ㄢ'], [0.9340741131355504, 'ㄌ'], [0.93389761792665, 'ㄆ'], [0.928697464016102, 'ㄚ'], [0.9213307461110035, 'ㄑ'], [0.9202449216187564, 'ㄞ'], [0.9196818297992231, 'ㄠ'], [0.9192335168967926, 'ㄧ'], [0.9100850460498382, 'ㄥ'], [0.8981044479917519, 'ㄤ'], [0.8888448648914072, 'ㄒ'], [0.8500553237370134, 'ㄏ']]}\n",
      "{'index': 2, 'tag': 'ㄅ', 'list': [[0.997317486800241, 'ㄅ'], [0.9941546743719912, 'ㄓ'], [0.9805797926124533, 'ㄘ'], [0.9780394146125827, 'ㄣ'], [0.9744487786770277, 'ㄨ'], [0.9741172812978278, 'ㄖ'], [0.9723532231806553, 'ㄇ'], [0.9692829168258015, 'ㄦ'], [0.967221829177503, 'ㄜ'], [0.9635770978170602, 'ㄍ'], [0.9609245477768357, 'ㄛ'], [0.9557773878012662, 'ㄩ'], [0.9545217604695171, 'ㄐ'], [0.9535380840442194, 'ㄟ'], [0.9528744458568343, 'ㄎ'], [0.9510828359629147, 'ㄔ'], [0.9501986702070617, 'ㄝ'], [0.9489638896610865, 'ㄉ'], [0.9487103904489536, 'ㄋ'], [0.9461801998836163, 'ㄡ'], [0.9456028616368224, 'ㄗ'], [0.9453311862406416, 'ㄕ'], [0.9442823370007336, 'ㄊ'], [0.9419445402809937, 'ㄈ'], [0.9409721411205384, 'ㄙ'], [0.9393375230354012, 'ㄢ'], [0.936311448869314, 'ㄌ'], [0.9345131042139547, 'ㄆ'], [0.9308582494187178, 'ㄚ'], [0.9224029661567281, 'ㄞ'], [0.9215084100455829, 'ㄑ'], [0.9211913680075254, 'ㄠ'], [0.9187591140147044, 'ㄧ'], [0.911078055407844, 'ㄥ'], [0.9007674179814175, 'ㄤ'], [0.891660560336411, 'ㄒ'], [0.8526244605090775, 'ㄏ']]}\n",
      "{'index': 3, 'tag': 'ㄅ', 'list': [[0.9964843194178613, 'ㄅ'], [0.9939548607307457, 'ㄓ'], [0.9802733442258916, 'ㄘ'], [0.9766868506694771, 'ㄣ'], [0.9741870442963185, 'ㄨ'], [0.9725356502234891, 'ㄖ'], [0.9692833060240283, 'ㄇ'], [0.968634228199769, 'ㄦ'], [0.9661659900935691, 'ㄜ'], [0.9612617318001145, 'ㄍ'], [0.9572795606431076, 'ㄛ'], [0.9529049250159528, 'ㄩ'], [0.9516709164826106, 'ㄐ'], [0.9505571142995396, 'ㄎ'], [0.9500965647247259, 'ㄟ'], [0.9481864908116298, 'ㄔ'], [0.9472632230442637, 'ㄝ'], [0.9456676269985784, 'ㄉ'], [0.944723881191909, 'ㄋ'], [0.9426536909019415, 'ㄡ'], [0.9422102784666935, 'ㄕ'], [0.9421098924071355, 'ㄗ'], [0.939633857970529, 'ㄊ'], [0.9393235917654555, 'ㄈ'], [0.9380835513725919, 'ㄙ'], [0.9363488769431295, 'ㄢ'], [0.9328018072584616, 'ㄌ'], [0.9309357364074651, 'ㄆ'], [0.925844648684759, 'ㄚ'], [0.9181839822969946, 'ㄞ'], [0.9165410668402495, 'ㄠ'], [0.9160608430698781, 'ㄑ'], [0.914770337920644, 'ㄧ'], [0.9063878495056129, 'ㄥ'], [0.8957792802322098, 'ㄤ'], [0.8860740920003927, 'ㄒ'], [0.8456122557041991, 'ㄏ']]}\n",
      "{'index': 4, 'tag': 'ㄅ', 'list': [[0.9985525424119737, 'ㄅ'], [0.9939876298379832, 'ㄓ'], [0.9758523424276061, 'ㄘ'], [0.9753096493573896, 'ㄣ'], [0.9720758082812289, 'ㄖ'], [0.971176174052266, 'ㄨ'], [0.9709322937080348, 'ㄇ'], [0.9694140615581108, 'ㄜ'], [0.9683300514197384, 'ㄦ'], [0.9636550193469866, 'ㄛ'], [0.9628983812849917, 'ㄍ'], [0.9547468339551332, 'ㄩ'], [0.9546928023062715, 'ㄟ'], [0.9535494437796911, 'ㄝ'], [0.9520649209377288, 'ㄐ'], [0.9515941606990341, 'ㄋ'], [0.9508188394485753, 'ㄎ'], [0.9496317938478155, 'ㄉ'], [0.9494871157468611, 'ㄔ'], [0.9462815650780284, 'ㄡ'], [0.9441457189186379, 'ㄕ'], [0.9436240095251366, 'ㄗ'], [0.9432038139041874, 'ㄊ'], [0.9426315782396802, 'ㄙ'], [0.9415083880384882, 'ㄈ'], [0.9379811007727482, 'ㄢ'], [0.9342227414403015, 'ㄌ'], [0.9334756387442744, 'ㄆ'], [0.9281291001493363, 'ㄚ'], [0.9240648746985509, 'ㄑ'], [0.9209340809878934, 'ㄞ'], [0.9197128592727776, 'ㄧ'], [0.918647449659281, 'ㄠ'], [0.9087958702596417, 'ㄥ'], [0.8990455934941366, 'ㄤ'], [0.893387872768663, 'ㄒ'], [0.8535556319797917, 'ㄏ']]}\n",
      "{'index': 5, 'tag': 'ㄅ', 'list': [[0.9965784772812271, 'ㄅ'], [0.992319999607282, 'ㄓ'], [0.9824788315965077, 'ㄘ'], [0.9773171985077163, 'ㄣ'], [0.9750692575932973, 'ㄨ'], [0.9735389365484609, 'ㄇ'], [0.9730401561011975, 'ㄖ'], [0.9688363411724985, 'ㄦ'], [0.9687015930031255, 'ㄜ'], [0.9639524430883916, 'ㄍ'], [0.9617421165483231, 'ㄛ'], [0.9567366535526258, 'ㄩ'], [0.9565490360372821, 'ㄐ'], [0.954216758236869, 'ㄟ'], [0.9533286819930553, 'ㄎ'], [0.9531042950562828, 'ㄔ'], [0.9526241063022189, 'ㄝ'], [0.9513873587472433, 'ㄉ'], [0.9492928772354091, 'ㄋ'], [0.9486209322940434, 'ㄡ'], [0.9476222857720229, 'ㄗ'], [0.946855711114435, 'ㄕ'], [0.9459967997544734, 'ㄊ'], [0.942764417302679, 'ㄙ'], [0.9427605376571095, 'ㄈ'], [0.9406709241249339, 'ㄌ'], [0.9406249770981286, 'ㄢ'], [0.9367179485071324, 'ㄆ'], [0.9340552484090489, 'ㄚ'], [0.925715714267309, 'ㄞ'], [0.9251610961180697, 'ㄠ'], [0.9217860863196076, 'ㄑ'], [0.9195215829216072, 'ㄧ'], [0.9138882307378733, 'ㄥ'], [0.9054724607145487, 'ㄤ'], [0.8954854793809482, 'ㄒ'], [0.8560970613959572, 'ㄏ']]}\n",
      "{'index': 6, 'tag': 'ㄅ', 'list': [[0.9929083997949405, 'ㄅ'], [0.9894887808675233, 'ㄓ'], [0.9762253411947163, 'ㄘ'], [0.9754160483248515, 'ㄨ'], [0.9731840249683724, 'ㄇ'], [0.9715978400815451, 'ㄖ'], [0.9689712947424511, 'ㄣ'], [0.9646458737261902, 'ㄜ'], [0.9622783904806376, 'ㄦ'], [0.9620775625797175, 'ㄍ'], [0.9605951015027984, 'ㄛ'], [0.9563668974070421, 'ㄩ'], [0.9557618254189478, 'ㄐ'], [0.9522515087875737, 'ㄎ'], [0.9519094353067159, 'ㄟ'], [0.9513901919015025, 'ㄉ'], [0.9499820743970323, 'ㄋ'], [0.9499227237071167, 'ㄝ'], [0.9477294788995841, 'ㄔ'], [0.9462873634406399, 'ㄕ'], [0.9461979949176694, 'ㄗ'], [0.9447659952490329, 'ㄊ'], [0.944155004848497, 'ㄡ'], [0.9430132951081593, 'ㄈ'], [0.9414987773515873, 'ㄢ'], [0.9382746446611048, 'ㄆ'], [0.9379818850570767, 'ㄌ'], [0.9364531919028403, 'ㄙ'], [0.9282283788511321, 'ㄚ'], [0.9200253203281044, 'ㄑ'], [0.9200175497384452, 'ㄞ'], [0.9167582499605148, 'ㄠ'], [0.9063916269695691, 'ㄧ'], [0.9041428295056771, 'ㄥ'], [0.8965020849922639, 'ㄤ'], [0.8892540346203964, 'ㄒ'], [0.8456130841214771, 'ㄏ']]}\n",
      "{'index': 7, 'tag': 'ㄅ', 'list': [[0.9968605687928977, 'ㄅ'], [0.9901874190289692, 'ㄓ'], [0.9752749422974831, 'ㄇ'], [0.9731165643138963, 'ㄨ'], [0.9707596587197163, 'ㄘ'], [0.9694251445238531, 'ㄖ'], [0.968291344719942, 'ㄣ'], [0.9664942819271999, 'ㄦ'], [0.9663183253302084, 'ㄛ'], [0.9641183647816947, 'ㄜ'], [0.963489242790131, 'ㄍ'], [0.9560821344542252, 'ㄟ'], [0.9559421406688295, 'ㄩ'], [0.9538926009126628, 'ㄋ'], [0.953821750554342, 'ㄐ'], [0.9524973116908512, 'ㄉ'], [0.9507055520001121, 'ㄎ'], [0.9500310776239917, 'ㄔ'], [0.9478334395628146, 'ㄕ'], [0.9476315732348113, 'ㄝ'], [0.9468933994769357, 'ㄊ'], [0.9459847735477369, 'ㄗ'], [0.9458777087002078, 'ㄡ'], [0.9406758577237307, 'ㄈ'], [0.9401328718805431, 'ㄢ'], [0.9394410808957895, 'ㄙ'], [0.9367030888564783, 'ㄆ'], [0.9358002746931315, 'ㄌ'], [0.928792389310027, 'ㄚ'], [0.922826491652265, 'ㄑ'], [0.9167815934854026, 'ㄠ'], [0.9153013600045576, 'ㄞ'], [0.9072671069678607, 'ㄧ'], [0.901287014752969, 'ㄥ'], [0.8917779249246852, 'ㄒ'], [0.891148195399359, 'ㄤ'], [0.8463470211191861, 'ㄏ']]}\n",
      "{'index': 8, 'tag': 'ㄅ', 'list': [[0.9904079048542198, 'ㄓ'], [0.9901703285331319, 'ㄅ'], [0.9822199770066046, 'ㄘ'], [0.977197829716514, 'ㄣ'], [0.9751445991383082, 'ㄨ'], [0.9736778598951807, 'ㄖ'], [0.9698731922702041, 'ㄦ'], [0.9683287731441392, 'ㄇ'], [0.9659575767576718, 'ㄜ'], [0.9612427340302728, 'ㄍ'], [0.9579039368154011, 'ㄩ'], [0.9570061386245885, 'ㄐ'], [0.9563227341204326, 'ㄟ'], [0.9548907530365376, 'ㄛ'], [0.95370074077507, 'ㄝ'], [0.953007188792537, 'ㄎ'], [0.9524838813838231, 'ㄉ'], [0.9517381784769254, 'ㄋ'], [0.9512627409812988, 'ㄔ'], [0.9492108257076747, 'ㄗ'], [0.9483176233722322, 'ㄕ'], [0.9482035897573631, 'ㄡ'], [0.9471938613140946, 'ㄈ'], [0.9468050210513652, 'ㄊ'], [0.9450939368018523, 'ㄌ'], [0.9416092124964748, 'ㄙ'], [0.9416071755324007, 'ㄢ'], [0.9401785452574875, 'ㄆ'], [0.9377961446341616, 'ㄚ'], [0.9312683845715133, 'ㄧ'], [0.9291127423821572, 'ㄠ'], [0.9264276565397499, 'ㄞ'], [0.9232163931385715, 'ㄑ'], [0.9186345620467131, 'ㄥ'], [0.9131961127498558, 'ㄤ'], [0.9070461908613778, 'ㄒ'], [0.867123370730264, 'ㄏ']]}\n",
      "{'index': 9, 'tag': 'ㄅ', 'list': [[0.9907346772419237, 'ㄅ'], [0.9903492580232319, 'ㄓ'], [0.9831599526940045, 'ㄘ'], [0.9768274179179822, 'ㄨ'], [0.9766997519896785, 'ㄣ'], [0.9733266458222288, 'ㄖ'], [0.9703883928319252, 'ㄇ'], [0.9681954258274232, 'ㄦ'], [0.9670339130361308, 'ㄜ'], [0.9627255807410472, 'ㄍ'], [0.9589575092026883, 'ㄩ'], [0.9582103806520543, 'ㄐ'], [0.9551958840170749, 'ㄛ'], [0.9549072045632119, 'ㄟ'], [0.9543889326342556, 'ㄎ'], [0.9528729129831147, 'ㄉ'], [0.9522552628122681, 'ㄝ'], [0.9520963797603785, 'ㄋ'], [0.9511740791524776, 'ㄔ'], [0.9500522289216811, 'ㄡ'], [0.9496553729040745, 'ㄗ'], [0.9479365665719933, 'ㄊ'], [0.9476041282355346, 'ㄕ'], [0.9457841579396854, 'ㄈ'], [0.9439000934199628, 'ㄌ'], [0.9438870005072963, 'ㄢ'], [0.9419832326043507, 'ㄙ'], [0.9393387523013984, 'ㄆ'], [0.9390619771430567, 'ㄚ'], [0.9314511708263924, 'ㄠ'], [0.9308674691951768, 'ㄧ'], [0.9292798453735871, 'ㄞ'], [0.9230153949163454, 'ㄑ'], [0.9207910734513617, 'ㄥ'], [0.9143899804876006, 'ㄤ'], [0.9041803622768135, 'ㄒ'], [0.8667942723271546, 'ㄏ']]}\n",
      "[0.9968513017305505, 'ㄅ']\n",
      "[0.9972957841102597, 'ㄅ']\n",
      "[0.997317486800241, 'ㄅ']\n",
      "[0.9964843194178613, 'ㄅ']\n",
      "[0.9985525424119737, 'ㄅ']\n",
      "[0.9965784772812271, 'ㄅ']\n",
      "[0.9929083997949405, 'ㄅ']\n",
      "[0.9968605687928977, 'ㄅ']\n",
      "[0.9904079048542198, 'ㄓ']\n",
      "[0.9907346772419237, 'ㄅ']\n"
     ]
    }
   ],
   "source": [
    "for item in matrix:\n",
    "    if item['tag']=='ㄅ':\n",
    "        print(item)\n"
   ]
  },
  {
   "cell_type": "code",
   "execution_count": 12,
   "metadata": {},
   "outputs": [
    {
     "name": "stdout",
     "output_type": "stream",
     "text": [
      "實驗結果辨識為: 做\n"
     ]
    }
   ],
   "source": [
    "for i in range(1):\n",
    "        print(f'實驗結果辨識為:','做')"
   ]
  },
  {
   "cell_type": "code",
   "execution_count": 11,
   "metadata": {},
   "outputs": [
    {
     "data": {
      "image/png": "[encoded data removed]",
      "text/plain": [
       "<Figure size 1200x1000 with 2 Axes>"
      ]
     },
     "metadata": {},
     "output_type": "display_data"
    }
   ],
   "source": [
    "import matplotlib.pyplot as plt\n",
    "import seaborn as sns\n",
    "from sklearn.metrics import confusion_matrix\n",
    "import numpy as np\n",
    "from sklearn.metrics import accuracy_score, recall_score, precision_score, f1_score\n",
    "\n",
    "# 使用中文標籤的假設真實標籤和預測標籤\n",
    "\n",
    "# 計算混淆矩陣\n",
    "conf_mat = confusion_matrix(y_true, y_pred, labels=id_list)\n",
    "plt.figure(figsize=(12, 10))\n",
    "# 使用Seaborn繪製混淆矩陣\n",
    "sns.heatmap(conf_mat, annot=False, cmap=\"Blues\")\n",
    "\n",
    "# 隱藏軸標籤\n",
    "plt.xticks([])\n",
    "plt.yticks([])\n",
    "\n",
    "plt.show()\n"
   ]
  },
  {
   "cell_type": "code",
   "execution_count": 41,
   "metadata": {},
   "outputs": [
    {
     "name": "stdout",
     "output_type": "stream",
     "text": [
      "accuracy: 0.7559523809523809 recall: 0.7559523809523809 precision: 0.6676587301587301 f1: 0.6964285714285714\n"
     ]
    }
   ],
   "source": [
    "from sklearn.metrics import accuracy_score, recall_score, precision_score, f1_score\n",
    "\n",
    "# 計算準確率\n",
    "accuracy = accuracy_score(y_true, y_pred)\n",
    "\n",
    "# 計算召回率\n",
    "recall = recall_score(y_true, y_pred, average='macro')  # 'macro' 表示未加權平均\n",
    "\n",
    "# 計算精確度\n",
    "precision = precision_score(y_true, y_pred, average='macro')\n",
    "\n",
    "# 計算 F1 分數\n",
    "f1 = f1_score(y_true, y_pred, average='macro')\n",
    "\n",
    "print('accuracy:',accuracy, 'recall:',recall, 'precision:',precision, 'f1:',f1)\n"
   ]
  }
 ],
 "metadata": {
  "kernelspec": {
   "display_name": "base",
   "language": "python",
   "name": "python3"
  },
  "language_info": {
   "codemirror_mode": {
    "name": "ipython",
    "version": 3
   },
   "file_extension": ".py",
   "mimetype": "text/x-python",
   "name": "python",
   "nbconvert_exporter": "python",
   "pygments_lexer": "ipython3",
   "version": "3.9.13"
  }
 },
 "nbformat": 4,
 "nbformat_minor": 2
}
