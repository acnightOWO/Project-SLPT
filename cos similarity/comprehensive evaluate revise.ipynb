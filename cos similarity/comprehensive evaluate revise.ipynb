{
 "cells": [
  {
   "cell_type": "code",
   "execution_count": 1,
   "metadata": {},
   "outputs": [],
   "source": [
    "import json \n",
    "import torch\n",
    "import torchvision\n",
    "from torch import nn\n",
    "from utils import buit_eval_model\n",
    "import os\n",
    "from model import MAE\n",
    "import numpy as np\n",
    "import matplotlib.pyplot as plt\n",
    "import seaborn as sns\n",
    "import numpy as np\n",
    "import json\n",
    "plt.rcParams['font.sans-serif'] = ['Microsoft JhengHei'] # 修改中文字體\n",
    "plt.rcParams['axes.unicode_minus'] = False # 顯示負號\n",
    "from utils_revise import integrate_notation, cosine_similarity\n",
    "\n",
    "\n",
    "model_folder = r'D:\\Project Sekai\\MAE Bs PJ\\state_dict-75%'\n",
    "category = 'commom_word-75%'\n",
    "matrix = {}\n",
    "with open(f'log/{category}_indicator.json','w') as f:\n",
    "    json.dump(matrix,f,ensure_ascii=False)\n",
    "from tqdm.auto import tqdm"
   ]
  },
  {
   "cell_type": "code",
   "execution_count": 2,
   "metadata": {},
   "outputs": [],
   "source": [
    "model_path_list = [os.path.join(model_folder, name) for name in os.listdir(model_folder)[1:]]\n",
    "CHECKPOINT_PATH = os.path.join(model_folder, os.listdir(model_folder)[0])"
   ]
  },
  {
   "cell_type": "code",
   "execution_count": 3,
   "metadata": {},
   "outputs": [
    {
     "data": {
      "text/plain": [
       "'D:\\\\Project Sekai\\\\MAE Bs PJ\\\\state_dict-75%\\\\epoch 5-3000 weight.pt'"
      ]
     },
     "execution_count": 3,
     "metadata": {},
     "output_type": "execute_result"
    }
   ],
   "source": [
    "CHECKPOINT_PATH\n",
    "model_path_list[-1]"
   ]
  },
  {
   "cell_type": "code",
   "execution_count": 4,
   "metadata": {},
   "outputs": [
    {
     "data": {
      "application/vnd.jupyter.widget-view+json": {
       "model_id": "7a85eafe341b4fbe8183c4cd85fb1769",
       "version_major": 2,
       "version_minor": 0
      },
      "text/plain": [
       "  0%|          | 0/1 [00:00<?, ?it/s]"
      ]
     },
     "metadata": {},
     "output_type": "display_data"
    },
    {
     "name": "stdout",
     "output_type": "stream",
     "text": [
      "process:5-3000\n"
     ]
    },
    {
     "data": {
      "application/vnd.jupyter.widget-view+json": {
       "model_id": "b6bf117c942f417cbebc9c7efeb546c5",
       "version_major": 2,
       "version_minor": 0
      },
      "text/plain": [
       "  0%|          | 0/37 [00:00<?, ?it/s]"
      ]
     },
     "metadata": {},
     "output_type": "display_data"
    }
   ],
   "source": [
    "for model_path in tqdm(model_path_list[-1:]):\n",
    "    name = os.path.basename(model_path.replace(' ', '').replace('.pt','').replace('epoch','').replace('weight',''))\n",
    "    print(f'process:{name}')\n",
    "    checkpoint = torch.load(CHECKPOINT_PATH)\n",
    "    step = checkpoint['step']\n",
    "    mean = checkpoint['mean']\n",
    "    std = checkpoint['std']\n",
    "    model = buit_eval_model(model_path)\n",
    "    integrate_notation(mean,\n",
    "              std,\n",
    "              model,\n",
    "              name,\n",
    "              category,\n",
    "              cosine_similarity)"
   ]
  }
 ],
 "metadata": {
  "kernelspec": {
   "display_name": "base",
   "language": "python",
   "name": "python3"
  },
  "language_info": {
   "codemirror_mode": {
    "name": "ipython",
    "version": 3
   },
   "file_extension": ".py",
   "mimetype": "text/x-python",
   "name": "python",
   "nbconvert_exporter": "python",
   "pygments_lexer": "ipython3",
   "version": "3.9.13"
  }
 },
 "nbformat": 4,
 "nbformat_minor": 2
}
