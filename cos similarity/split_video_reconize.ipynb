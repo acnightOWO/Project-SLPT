{
 "cells": [
  {
   "cell_type": "code",
   "execution_count": 1,
   "metadata": {},
   "outputs": [],
   "source": [
    "import json \n",
    "import torch\n",
    "import torchvision\n",
    "from torch import nn\n",
    "\n",
    "from tqdm.auto import tqdm\n",
    "from utils import buit_eval_model, load_json, clear_folder, split_json, judge\n",
    "import os\n",
    "from model import MAE\n",
    "import numpy as np\n",
    "from utils_cam import web_cam, node_json, visualize\n",
    "model_path = 'D:\\google drive\\MAE Bs PJ\\state_dict\\epoch 3-4200 weight.pt'\n",
    "CHECKPOINT_PATH = 'checkpoint.tar'\n",
    "\n",
    "checkpoint = torch.load(CHECKPOINT_PATH)\n",
    "step = checkpoint['step']\n",
    "mean = checkpoint['mean']\n",
    "std = checkpoint['std']\n",
    "sample_num = 100\n",
    "model = buit_eval_model(model_path)\n",
    "import moviepy.editor as mpe"
   ]
  },
  {
   "cell_type": "code",
   "execution_count": 9,
   "metadata": {},
   "outputs": [],
   "source": [
    "jsonFile = open(r'D:\\Project Sekai\\cos similarity\\dataset\\record\\nodes.json','r')\n",
    "x = json.load(jsonFile)"
   ]
  },
  {
   "cell_type": "code",
   "execution_count": 11,
   "metadata": {},
   "outputs": [
    {
     "data": {
      "text/plain": [
       "[[386, 277],\n",
       " [387, 248],\n",
       " [378, 222],\n",
       " [362, 208],\n",
       " [345, 204],\n",
       " [384, 206],\n",
       " [372, 181],\n",
       " [359, 166],\n",
       " [347, 157],\n",
       " [376, 212],\n",
       " [345, 202],\n",
       " [345, 213],\n",
       " [354, 218],\n",
       " [366, 221],\n",
       " [337, 214],\n",
       " [339, 224],\n",
       " [347, 227],\n",
       " [354, 232],\n",
       " [331, 227],\n",
       " [334, 234],\n",
       " [342, 239],\n",
       " [264, 251],\n",
       " [270, 234],\n",
       " [285, 216],\n",
       " [302, 211],\n",
       " [314, 211],\n",
       " [287, 195],\n",
       " [306, 172],\n",
       " [319, 157],\n",
       " [328, 145],\n",
       " [290, 201],\n",
       " [320, 208],\n",
       " [317, 219],\n",
       " [308, 222],\n",
       " [293, 211],\n",
       " [322, 218],\n",
       " [316, 228],\n",
       " [307, 229],\n",
       " [297, 223],\n",
       " [321, 228],\n",
       " [316, 236],\n",
       " [307, 239]]"
      ]
     },
     "execution_count": 11,
     "metadata": {},
     "output_type": "execute_result"
    }
   ],
   "source": [
    "x[0]"
   ]
  },
  {
   "cell_type": "code",
   "execution_count": 12,
   "metadata": {},
   "outputs": [],
   "source": [
    "class_name = 'record'\n",
    "clear_folder(rf'dataset\\{class_name}\\{class_name}')\n",
    "save_folder = os.path.join('dataset', class_name)"
   ]
  },
  {
   "cell_type": "code",
   "execution_count": 13,
   "metadata": {},
   "outputs": [
    {
     "name": "stdout",
     "output_type": "stream",
     "text": [
      "60 61\n",
      "(60, 42, 2)\n",
      "(64, 42, 2) (64, 42, 2)\n"
     ]
    }
   ],
   "source": [
    "input_video = os.path.join(save_folder, f'test (8).mp4')\n",
    "# input_video = r\"C:\\Users\\Huang\\Desktop\\output_video.mp4\"\n",
    "input_json  = os.path.join(save_folder, 'nodes.json')\n",
    "time_mark_path=os.path.join(save_folder, 'time mark_sp.json')\n",
    "output_folder = os.path.join(save_folder, class_name)\n",
    "os.makedirs(save_folder, exist_ok=True)\n",
    "json_path = rf'dataset\\{class_name}\\{class_name}\\segment_{0}.json'\n",
    "\n",
    "node_json(input_video, save_folder ,show=True)\n",
    "split_json(input_json, output_folder, time_mark_path)\n",
    "visualize(json_path)"
   ]
  },
  {
   "cell_type": "code",
   "execution_count": 6,
   "metadata": {},
   "outputs": [],
   "source": [
    "from utils import cosine_similarity\n",
    "import matplotlib.pyplot as plt\n",
    "import json\n",
    "plt.rcParams['font.sans-serif'] = ['Microsoft JhengHei'] # 修改中文字體\n",
    "plt.rcParams['axes.unicode_minus'] = False # 顯示負號\n",
    "\n",
    "def sort(array1, array2):\n",
    "    pair = []\n",
    "    paired_arrays = list(zip(array1, array2))\n",
    "    sorted_arrays = sorted(paired_arrays, key=lambda x: x[0], reverse=True)\n",
    "    sorted_array1, sorted_array2 = zip(*sorted_arrays)\n",
    "\n",
    "    for item in zip(sorted_array1, sorted_array2):\n",
    "        pair.append(item)\n",
    "    return pair\n",
    "\n",
    "def show_boxplot(x, labels, title):\n",
    "    plt.figure(figsize=(16, 6))\n",
    "    plt.boxplot(x, labels=labels)\n",
    "    plt.title(title)\n",
    "    plt.show()\n",
    "\n",
    "def calculate_cosine_similarity(vector, class_features):\n",
    "    id_vector = [value for value in class_features.items()]\n",
    "    similarity_list, id_list = [], []\n",
    "    for id, vector_i in id_vector:\n",
    "        # print(id, len(vector_i))\n",
    "        container = []\n",
    "        for feature_i in vector_i:\n",
    "            container.append(cosine_similarity(vector1=np.array(vector), vector2=np.array(feature_i)))\n",
    "\n",
    "        similarity_list.append(container)\n",
    "        id_list.append(id)\n",
    "    return similarity_list, id_list\n",
    "\n",
    "def sort_list(similarity_list, id_list):\n",
    "    max_list = []\n",
    "    for container in similarity_list:\n",
    "        max_list.append(max(container))\n",
    "        \n",
    "    return sort(max_list, id_list)\n",
    "\n",
    "with open('delete_list.json', 'r') as f:\n",
    "    delete_List = json.load(f)\n",
    "\n",
    "with open(r'features\\expriment.json', 'r') as f:\n",
    "    expriment_features = json.load(f)\n",
    "for tag in delete_List:\n",
    "    try:\n",
    "        del expriment_features[tag]\n",
    "    except:\n",
    "        pass\n",
    "\n",
    "id_vector = [value for value in expriment_features.items()]\n",
    "\n",
    "with open(r'features\\feature.json', 'r') as f:\n",
    "    class_features = json.load(f)\n",
    "for tag in delete_List:\n",
    "    try:\n",
    "        del class_features[tag]\n",
    "    except:\n",
    "        pass\n"
   ]
  },
  {
   "cell_type": "code",
   "execution_count": 19,
   "metadata": {},
   "outputs": [],
   "source": [
    "def split_video(input_video, cross, time_span, num):\n",
    "    video = mpe.VideoFileClip(input_video)\n",
    "    folder = os.path.split(input_video)[0]\n",
    "    start_time=0\n",
    "    end_time=start_time+time_span\n",
    "    for i in range(num):\n",
    "        segment = video.subclip(start_time, end_time)\n",
    "        segment.write_videofile(os.path.join(folder, f\"segment{i}.mp4\"))\n",
    "        start_time+=cross\n",
    "        end_time=start_time+time_span"
   ]
  },
  {
   "cell_type": "code",
   "execution_count": 51,
   "metadata": {},
   "outputs": [
    {
     "name": "stdout",
     "output_type": "stream",
     "text": [
      "Moviepy - Building video D:\\Project Sekai\\cos similarity\\dataset\\record\\segment0.mp4.\n",
      "MoviePy - Writing audio in segment0TEMP_MPY_wvf_snd.mp3\n"
     ]
    },
    {
     "name": "stderr",
     "output_type": "stream",
     "text": [
      "                                                       \r"
     ]
    },
    {
     "name": "stdout",
     "output_type": "stream",
     "text": [
      "MoviePy - Done.\n",
      "Moviepy - Writing video D:\\Project Sekai\\cos similarity\\dataset\\record\\segment0.mp4\n",
      "\n"
     ]
    },
    {
     "name": "stderr",
     "output_type": "stream",
     "text": [
      "                                                             \r"
     ]
    },
    {
     "name": "stdout",
     "output_type": "stream",
     "text": [
      "Moviepy - Done !\n",
      "Moviepy - video ready D:\\Project Sekai\\cos similarity\\dataset\\record\\segment0.mp4\n"
     ]
    }
   ],
   "source": [
    "class_name = 'record'\n",
    "clear_folder(rf'dataset\\{class_name}\\{class_name}')\n",
    "save_folder = os.path.join('dataset', class_name)\n",
    "# web_cam(save_folder=save_folder)\n",
    "split_video(r'D:\\Project Sekai\\cos similarity\\dataset\\record\\test (7).mp4',\n",
    "        cross=2.2,\n",
    "        time_span=2,\n",
    "        num=1)"
   ]
  },
  {
   "cell_type": "code",
   "execution_count": 52,
   "metadata": {},
   "outputs": [
    {
     "name": "stdout",
     "output_type": "stream",
     "text": [
      "60 61\n",
      "(60, 42, 2)\n",
      "(64, 42, 2) (64, 42, 2)\n",
      "[{'index': 0, 'list': [(array([0.94717487]), '多'), (array([0.93326329]), '事情'), (array([0.92930635]), '考試'), (array([0.92848312]), '電影'), (array([0.92280381]), '開車'), (array([0.92141328]), '路'), (array([0.91932024]), '比較'), (array([0.91720206]), '比賽'), (array([0.91597902]), '會'), (array([0.91103041]), '今天'), (array([0.90624459]), '建設'), (array([0.902831]), '溝通'), (array([0.90053772]), '發生'), (array([0.89950418]), '年'), (array([0.8982734]), '契約'), (array([0.89656353]), '賣'), (array([0.89553372]), '消遣'), (array([0.89441712]), '保護'), (array([0.8936368]), '明年'), (array([0.89338245]), '票'), (array([0.89179945]), '張'), (array([0.89166512]), '健康'), (array([0.89025194]), '會議'), (array([0.88815007]), '問題'), (array([0.88757252]), '演講'), (array([0.88630442]), '一樣'), (array([0.88601641]), '對'), (array([0.88268006]), '每'), (array([0.87848902]), '數學'), (array([0.87478135]), '第一名'), (array([0.87401313]), '現在'), (array([0.86325536]), '寫'), (array([0.85794056]), '參加'), (array([0.85793813]), '裡'), (array([0.85553634]), '習慣'), (array([0.85311148]), '郵票'), (array([0.85300708]), '不會'), (array([0.84998291]), '其中'), (array([0.84834213]), '每天'), (array([0.84614519]), '結束'), (array([0.84030678]), '全部'), (array([0.82716323]), '乾淨'), (array([0.82495168]), '做'), (array([0.82312777]), '飲料'), (array([0.82137088]), '學校'), (array([0.8211923]), '安靜'), (array([0.82071832]), '吃飯'), (array([0.81772609]), '注意'), (array([0.81443926]), '直'), (array([0.80480479]), '目的'), (array([0.79885829]), '學生'), (array([0.79567412]), '結婚'), (array([0.79490273]), '土'), (array([0.79164119]), '回家'), (array([0.78647823]), '學習'), (array([0.78292922]), '努力'), (array([0.7812934]), '大'), (array([0.77127137]), '家'), (array([0.7698366]), '程度'), (array([0.76720879]), '教'), (array([0.76457553]), '時間'), (array([0.76086834]), '表格'), (array([0.76054441]), '讀書'), (array([0.75597804]), '設計'), (array([0.74649725]), '小孩'), (array([0.74318984]), '房子'), (array([0.73788125]), '負責'), (array([0.73574457]), '運動'), (array([0.73315262]), '紙'), (array([0.72936938]), '常常'), (array([0.72738448]), '未來'), (array([0.71317215]), '熱'), (array([0.7107345]), '報紙'), (array([0.70744709]), '銀行'), (array([0.7067593]), '森林'), (array([0.70531095]), '住'), (array([0.70053481]), '睡'), (array([0.69319783]), '邊'), (array([0.69244845]), '進步'), (array([0.68975605]), '出'), (array([0.67515965]), '瘦'), (array([0.67178169]), '帶'), (array([0.66259005]), '正'), (array([0.6411056]), '玩'), (array([0.63976675]), '累'), (array([0.61673407]), '遲到'), (array([0.55908271]), '下雨'), (array([0.54604276]), '狗'), (array([0.25423194]), '我們'), (array([0.23909607]), '棒'), (array([0.23020354]), '去'), (array([0.22147645]), '不能'), (array([0.22049829]), '依然'), (array([0.21684939]), '複雜'), (array([0.21678638]), '花'), (array([0.21584195]), '想'), (array([0.21570438]), '爸爸'), (array([0.21485071]), '明天'), (array([0.21347471]), '拿'), (array([0.2126828]), '警察'), (array([0.21209132]), '剛剛'), (array([0.21031981]), '下一個'), (array([0.20912639]), '不'), (array([0.20751332]), '不行'), (array([0.20677548]), '這'), (array([0.20571502]), '唱歌'), (array([0.2041588]), '開花'), (array([0.20300818]), '有'), (array([0.20269414]), '以前'), (array([0.20242697]), '他們'), (array([0.20191706]), '新'), (array([0.20182577]), '記得'), (array([0.20043068]), '昨天'), (array([0.19750944]), '男'), (array([0.19689222]), '我倆'), (array([0.19618635]), '他'), (array([0.19563467]), '他倆'), (array([0.19193914]), '什麼'), (array([0.19108044]), '貴'), (array([0.19044307]), '台灣'), (array([0.19035962]), '飛機'), (array([0.18941873]), '水果'), (array([0.18640591]), '我們兩個'), (array([0.18614482]), '走'), (array([0.184115]), '找'), (array([0.1834338]), '欣賞'), (array([0.18241531]), '贏'), (array([0.18192961]), '聽'), (array([0.18130552]), '手機'), (array([0.18102942]), '身體'), (array([0.18096725]), '輸'), (array([0.17952354]), '很'), (array([0.17940668]), '喝'), (array([0.17788314]), '喜歡'), (array([0.17784297]), '好'), (array([0.17757505]), '你'), (array([0.17642598]), '兩個'), (array([0.1744158]), '刷牙'), (array([0.17372398]), '病'), (array([0.17243599]), '來'), (array([0.17237077]), '臉'), (array([0.17132783]), '眼睛'), (array([0.1705655]), '看'), (array([0.17035921]), '弟弟'), (array([0.16968723]), '髒'), (array([0.16968608]), '希望'), (array([0.16735409]), '香'), (array([0.16670127]), '聞'), (array([0.16638925]), '錢'), (array([0.16616579]), '旅行'), (array([0.16478616]), '口'), (array([0.16256726]), '老師'), (array([0.16151273]), '不好'), (array([0.16046683]), '怕'), (array([0.16036075]), '可以'), (array([0.15959061]), '吃'), (array([0.15781158]), '舒服'), (array([0.15780261]), '請'), (array([0.15697961]), '我'), (array([0.15488461]), '等'), (array([0.15139952]), '是'), (array([0.15138762]), '笑'), (array([0.15113891]), '壞'), (array([0.14770965]), '不要'), (array([0.14759139]), '奇怪'), (array([0.14678071]), '做不成'), (array([0.14327489]), '綠'), (array([0.12588249]), '自己')]}]\n"
     ]
    }
   ],
   "source": [
    "clear_folder(rf'dataset\\{class_name}\\{class_name}')\n",
    "for i in range(1):\n",
    "    input_video = os.path.join(save_folder, f'segment{i}.mp4')\n",
    "    input_json  = os.path.join(save_folder, 'nodes.json')\n",
    "    time_mark_path=os.path.join(save_folder, 'time mark_sp.json')\n",
    "    output_folder = os.path.join(save_folder, class_name)\n",
    "    os.makedirs(save_folder, exist_ok=True)\n",
    "    json_path = rf'dataset\\{class_name}\\{class_name}\\segment_{i}.json'\n",
    "\n",
    "    node_json(input_video, save_folder ,show=True)\n",
    "    split_json(input_json, output_folder, time_mark_path)\n",
    "    visualize(json_path)\n",
    "\n",
    "    vector_list = []\n",
    "    x = load_json(json_path, mean, std, augment=False).to('cuda')\n",
    "    prediction = model(x)\n",
    "    vector_list.append(prediction.squeeze().tolist())\n",
    "\n",
    "    matrix = []\n",
    "    similarity_list, id_list = calculate_cosine_similarity(vector_list, class_features)\n",
    "\n",
    "    x = sort_list(similarity_list, id_list)\n",
    "    matrix.append({'index':0,'list':x})\n",
    "\n",
    "    print(matrix)"
   ]
  },
  {
   "cell_type": "code",
   "execution_count": null,
   "metadata": {},
   "outputs": [],
   "source": [
    "input_video = os.path.join(save_folder, f'segment{i}.mp4')\n",
    "input_json  = os.path.join(save_folder, 'nodes.json')\n",
    "time_mark_path=os.path.join(save_folder, 'time mark_sp.json')\n",
    "output_folder = os.path.join(save_folder, class_name)\n",
    "os.makedirs(save_folder, exist_ok=True)\n",
    "json_path = rf'dataset\\{class_name}\\{class_name}\\segment_{i}.json'\n",
    "\n",
    "node_json(input_video, save_folder ,show=True)\n",
    "split_json(input_json, output_folder, time_mark_path)\n",
    "visualize(json_path)\n",
    "\n",
    "vector_list = []\n",
    "x = load_json(json_path, mean, std, augment=False).to('cuda')\n",
    "prediction = model(x)\n",
    "vector_list.append(prediction.squeeze().tolist())"
   ]
  },
  {
   "cell_type": "code",
   "execution_count": 48,
   "metadata": {},
   "outputs": [
    {
     "name": "stdout",
     "output_type": "stream",
     "text": [
      "[[433 491]\n",
      " [412 477]\n",
      " [386 475]\n",
      " [366 473]\n",
      " [352 471]\n",
      " [366 512]\n",
      " [340 521]\n",
      " [324 527]\n",
      " [310 531]\n",
      " [373 525]\n",
      " [351 538]\n",
      " [337 546]\n",
      " [325 553]\n",
      " [383 533]\n",
      " [367 550]\n",
      " [357 562]\n",
      " [348 572]\n",
      " [396 536]\n",
      " [389 554]\n",
      " [386 567]\n",
      " [384 577]\n",
      " [177 243]\n",
      " [175 216]\n",
      " [180 188]\n",
      " [182 166]\n",
      " [178 150]\n",
      " [212 186]\n",
      " [230 162]\n",
      " [242 148]\n",
      " [253 138]\n",
      " [225 196]\n",
      " [249 178]\n",
      " [263 166]\n",
      " [275 158]\n",
      " [233 208]\n",
      " [257 191]\n",
      " [271 181]\n",
      " [281 172]\n",
      " [236 221]\n",
      " [257 210]\n",
      " [268 202]\n",
      " [277 196]]\n"
     ]
    }
   ],
   "source": [
    "jsonFile = open(r'D:\\Project Sekai\\cos similarity\\dataset\\record\\nodes.json','r')\n",
    "x = json.load(jsonFile)\n",
    "xy_list = np.round(np.array(x[28]))\n",
    "print(xy_list)"
   ]
  },
  {
   "cell_type": "code",
   "execution_count": 63,
   "metadata": {},
   "outputs": [],
   "source": [
    "vector_list = []\n",
    "x = load_json(json_path, mean, std, augment=False).to('cuda')\n",
    "prediction = model(x)\n",
    "vector_list.append(prediction.squeeze().tolist())"
   ]
  },
  {
   "cell_type": "code",
   "execution_count": 64,
   "metadata": {},
   "outputs": [
    {
     "name": "stdout",
     "output_type": "stream",
     "text": [
      "(64, 42, 2) (64, 42, 2)\n"
     ]
    }
   ],
   "source": [
    "visualize(json_path)"
   ]
  },
  {
   "cell_type": "code",
   "execution_count": 65,
   "metadata": {},
   "outputs": [],
   "source": [
    "matrix = []\n",
    "similarity_list, id_list = calculate_cosine_similarity(vector_list, class_features)\n",
    "\n",
    "x = sort_list(similarity_list, id_list)\n",
    "matrix.append({'index':0,'list':x})"
   ]
  },
  {
   "cell_type": "code",
   "execution_count": 66,
   "metadata": {},
   "outputs": [
    {
     "data": {
      "text/plain": [
       "[{'index': 0,\n",
       "  'list': [(array([0.98712285]), '做'),\n",
       "   (array([0.92690474]), '不會'),\n",
       "   (array([0.9081478]), '每'),\n",
       "   (array([0.90440561]), '賣'),\n",
       "   (array([0.89471842]), '第一名'),\n",
       "   (array([0.89224851]), '每天'),\n",
       "   (array([0.88694968]), '明年'),\n",
       "   (array([0.88645811]), '演講'),\n",
       "   (array([0.88365176]), '教'),\n",
       "   (array([0.88339202]), '溝通'),\n",
       "   (array([0.88253251]), '裡'),\n",
       "   (array([0.87948059]), '考試'),\n",
       "   (array([0.87636943]), '對'),\n",
       "   (array([0.87260488]), '設計'),\n",
       "   (array([0.87239214]), '注意'),\n",
       "   (array([0.87145438]), '學習'),\n",
       "   (array([0.8694881]), '會'),\n",
       "   (array([0.86822239]), '消遣'),\n",
       "   (array([0.86793237]), '努力'),\n",
       "   (array([0.86707335]), '報紙'),\n",
       "   (array([0.86315808]), '習慣'),\n",
       "   (array([0.85910956]), '其中'),\n",
       "   (array([0.85827681]), '住'),\n",
       "   (array([0.85618712]), '比較'),\n",
       "   (array([0.85404752]), '比賽'),\n",
       "   (array([0.85050642]), '森林'),\n",
       "   (array([0.84875123]), '郵票'),\n",
       "   (array([0.84794583]), '飲料'),\n",
       "   (array([0.83878305]), '寫'),\n",
       "   (array([0.83705773]), '會議'),\n",
       "   (array([0.83245207]), '吃飯'),\n",
       "   (array([0.83196064]), '年'),\n",
       "   (array([0.82430688]), '累'),\n",
       "   (array([0.82341148]), '電影'),\n",
       "   (array([0.82221524]), '安靜'),\n",
       "   (array([0.82202155]), '保護'),\n",
       "   (array([0.81922869]), '路'),\n",
       "   (array([0.81572291]), '目的'),\n",
       "   (array([0.81277076]), '開車'),\n",
       "   (array([0.80908137]), '參加'),\n",
       "   (array([0.80850899]), '結婚'),\n",
       "   (array([0.80801881]), '建設'),\n",
       "   (array([0.8079661]), '票'),\n",
       "   (array([0.80311297]), '乾淨'),\n",
       "   (array([0.78890756]), '數學'),\n",
       "   (array([0.78302082]), '事情'),\n",
       "   (array([0.78260593]), '一樣'),\n",
       "   (array([0.78066128]), '多'),\n",
       "   (array([0.7802014]), '契約'),\n",
       "   (array([0.77986076]), '健康'),\n",
       "   (array([0.7780785]), '未來'),\n",
       "   (array([0.77385769]), '問題'),\n",
       "   (array([0.77071403]), '程度'),\n",
       "   (array([0.7705343]), '結束'),\n",
       "   (array([0.76636316]), '發生'),\n",
       "   (array([0.76555604]), '張'),\n",
       "   (array([0.76407311]), '今天'),\n",
       "   (array([0.746447]), '出'),\n",
       "   (array([0.73887066]), '全部'),\n",
       "   (array([0.73634724]), '邊'),\n",
       "   (array([0.72827587]), '直'),\n",
       "   (array([0.72815775]), '讀書'),\n",
       "   (array([0.72239569]), '進步'),\n",
       "   (array([0.72236037]), '學生'),\n",
       "   (array([0.72187972]), '現在'),\n",
       "   (array([0.71617937]), '表格'),\n",
       "   (array([0.71450999]), '家'),\n",
       "   (array([0.70697054]), '帶'),\n",
       "   (array([0.70420914]), '負責'),\n",
       "   (array([0.70411147]), '房子'),\n",
       "   (array([0.70315942]), '學校'),\n",
       "   (array([0.70013461]), '回家'),\n",
       "   (array([0.70008392]), '時間'),\n",
       "   (array([0.68117823]), '大'),\n",
       "   (array([0.68097002]), '土'),\n",
       "   (array([0.65718675]), '銀行'),\n",
       "   (array([0.64950414]), '瘦'),\n",
       "   (array([0.64876488]), '紙'),\n",
       "   (array([0.63982576]), '睡'),\n",
       "   (array([0.63370087]), '小孩'),\n",
       "   (array([0.62824481]), '熱'),\n",
       "   (array([0.61930252]), '運動'),\n",
       "   (array([0.61474032]), '常常'),\n",
       "   (array([0.61375442]), '正'),\n",
       "   (array([0.58605413]), '遲到'),\n",
       "   (array([0.58028108]), '玩'),\n",
       "   (array([0.52785367]), '狗'),\n",
       "   (array([0.48215609]), '下雨'),\n",
       "   (array([0.24001214]), '警察'),\n",
       "   (array([0.23860796]), '複雜'),\n",
       "   (array([0.23738724]), '記得'),\n",
       "   (array([0.23577848]), '聽'),\n",
       "   (array([0.23479636]), '明天'),\n",
       "   (array([0.23168882]), '想'),\n",
       "   (array([0.22670749]), '唱歌'),\n",
       "   (array([0.2263868]), '依然'),\n",
       "   (array([0.22400971]), '爸爸'),\n",
       "   (array([0.22260952]), '贏'),\n",
       "   (array([0.22038887]), '臉'),\n",
       "   (array([0.22034159]), '我們'),\n",
       "   (array([0.21947327]), '棒'),\n",
       "   (array([0.21902141]), '以前'),\n",
       "   (array([0.21568197]), '看'),\n",
       "   (array([0.21509408]), '病'),\n",
       "   (array([0.21505133]), '昨天'),\n",
       "   (array([0.21381622]), '喝'),\n",
       "   (array([0.21263388]), '希望'),\n",
       "   (array([0.21219147]), '不能'),\n",
       "   (array([0.21202168]), '好'),\n",
       "   (array([0.21188667]), '找'),\n",
       "   (array([0.20966434]), '不'),\n",
       "   (array([0.20834468]), '飛機'),\n",
       "   (array([0.20804211]), '聞'),\n",
       "   (array([0.20666287]), '台灣'),\n",
       "   (array([0.20647533]), '新'),\n",
       "   (array([0.20642418]), '刷牙'),\n",
       "   (array([0.2061095]), '水果'),\n",
       "   (array([0.20571685]), '欣賞'),\n",
       "   (array([0.20547081]), '去'),\n",
       "   (array([0.20520921]), '香'),\n",
       "   (array([0.2032883]), '髒'),\n",
       "   (array([0.20181616]), '男'),\n",
       "   (array([0.199806]), '不行'),\n",
       "   (array([0.19838745]), '旅行'),\n",
       "   (array([0.19787696]), '下一個'),\n",
       "   (array([0.19727696]), '這'),\n",
       "   (array([0.19697852]), '手機'),\n",
       "   (array([0.19665521]), '有'),\n",
       "   (array([0.19608701]), '喜歡'),\n",
       "   (array([0.19584899]), '眼睛'),\n",
       "   (array([0.19575488]), '我'),\n",
       "   (array([0.19443309]), '花'),\n",
       "   (array([0.19419141]), '身體'),\n",
       "   (array([0.19387375]), '什麼'),\n",
       "   (array([0.19383388]), '吃'),\n",
       "   (array([0.19360374]), '請'),\n",
       "   (array([0.19344541]), '拿'),\n",
       "   (array([0.19311652]), '口'),\n",
       "   (array([0.19221268]), '舒服'),\n",
       "   (array([0.19163217]), '兩個'),\n",
       "   (array([0.19159677]), '你'),\n",
       "   (array([0.19083714]), '我倆'),\n",
       "   (array([0.19078981]), '是'),\n",
       "   (array([0.19078897]), '他們'),\n",
       "   (array([0.19076616]), '壞'),\n",
       "   (array([0.1906961]), '做不成'),\n",
       "   (array([0.19015066]), '走'),\n",
       "   (array([0.18999057]), '很'),\n",
       "   (array([0.18996367]), '可以'),\n",
       "   (array([0.18842257]), '不好'),\n",
       "   (array([0.1881613]), '等'),\n",
       "   (array([0.18810772]), '來'),\n",
       "   (array([0.18766721]), '笑'),\n",
       "   (array([0.18666371]), '奇怪'),\n",
       "   (array([0.18607163]), '綠'),\n",
       "   (array([0.18562799]), '他倆'),\n",
       "   (array([0.18416049]), '輸'),\n",
       "   (array([0.18412128]), '開花'),\n",
       "   (array([0.18399053]), '他'),\n",
       "   (array([0.18285567]), '貴'),\n",
       "   (array([0.18258458]), '弟弟'),\n",
       "   (array([0.18202713]), '不要'),\n",
       "   (array([0.18121024]), '老師'),\n",
       "   (array([0.18020897]), '剛剛'),\n",
       "   (array([0.17929254]), '錢'),\n",
       "   (array([0.17724771]), '我們兩個'),\n",
       "   (array([0.17631676]), '怕'),\n",
       "   (array([0.17271122]), '自己')]}]"
      ]
     },
     "execution_count": 66,
     "metadata": {},
     "output_type": "execute_result"
    }
   ],
   "source": [
    "matrix"
   ]
  },
  {
   "cell_type": "code",
   "execution_count": 33,
   "metadata": {},
   "outputs": [
    {
     "data": {
      "image/png": "[encoded data removed]",
      "text/plain": [
       "<Figure size 800x1500 with 1 Axes>"
      ]
     },
     "metadata": {},
     "output_type": "display_data"
    }
   ],
   "source": [
    "import numpy as np\n",
    "import matplotlib.pyplot as plt\n",
    "import matplotlib\n",
    "matplotlib.rc('font', family='Microsoft JhengHei')\n",
    "# 建立資料\n",
    "categories = ['75%', '50%', '25%']\n",
    "# Accuracy = [0.773, 0.804, 0.75]\n",
    "# F1_score = [0.725, 0.755, 0.691]\n",
    "Accuracy = [0.878, 0.882, 0.865]\n",
    "F1_score = [0.894, 0.895, 0.875]\n",
    "# 設置圖表寬度\n",
    "bar_width = 0.2\n",
    "index = np.arange(len(categories))\n",
    "plt.figure(figsize=(8, 15))\n",
    "\n",
    "# 繪製分組長條圖\n",
    "bars1 = plt.bar(index, Accuracy, bar_width, label='Accuracy', zorder=10)\n",
    "bars2 = plt.bar(index + bar_width, F1_score, bar_width, label='F1_score', zorder=10)\n",
    "\n",
    "# 在每個長條圖上顯示值\n",
    "for bar in bars1:\n",
    "    height = bar.get_height()\n",
    "    plt.text(bar.get_x() + bar.get_width() / 2, height, '{:.3f}'.format(height), ha='center', va='bottom', fontsize=12)\n",
    "\n",
    "for bar in bars2:\n",
    "    height = bar.get_height()\n",
    "    plt.text(bar.get_x() + bar.get_width() / 2, height, '{:.3f}'.format(height), ha='center', va='bottom', fontsize=12)\n",
    "\n",
    "plt.xticks(fontsize=20)\n",
    "plt.yticks(fontsize=20)\n",
    "\n",
    "plt.ylim(0.85, 0.9)\n",
    "plt.ylabel('F1-score / Accuracy', fontsize=20)\n",
    "plt.xticks(index + bar_width / 2, categories,fontsize=24)\n",
    "plt.legend()\n",
    "# plt.title('三種模型在注音辨識對準確率與F1-score', fontsize=20)\n",
    "\n",
    "# 繪製格子，並設置zorder\n",
    "plt.grid(True, axis='y',linestyle='--', zorder=0)\n",
    "\n",
    "plt.show()\n"
   ]
  },
  {
   "cell_type": "code",
   "execution_count": 8,
   "metadata": {},
   "outputs": [
    {
     "data": {
      "image/png": "[encoded data removed]",
      "text/plain": [
       "<Figure size 800x1200 with 1 Axes>"
      ]
     },
     "metadata": {},
     "output_type": "display_data"
    }
   ],
   "source": [
    "import numpy as np\n",
    "import matplotlib.pyplot as plt\n",
    "\n",
    "# 建立資料\n",
    "categories = ['75%', '50%', '25%']\n",
    "Accuracy = [0.773, 0.804, 0.75]\n",
    "F1_score = [0.725, 0.755, 0.691]\n",
    "# 設置圖表寬度\n",
    "bar_width = 0.2\n",
    "index = np.arange(len(categories))\n",
    "plt.figure(figsize=(8, 12))\n",
    "# 繪製分組長條圖\n",
    "plt.bar(index, Accuracy, bar_width, label='Accuracy')\n",
    "plt.bar(index + bar_width, F1_score, bar_width, label='F1_score')\n",
    "plt.ylim(0.6, 1)\n",
    "# 添加標籤和標題\n",
    "plt.xlabel('Category')\n",
    "plt.ylabel('Value')\n",
    "plt.xticks(index + bar_width / 2, categories)\n",
    "plt.legend()\n",
    "\n",
    "# 顯示圖表\n",
    "plt.show()"
   ]
  },
  {
   "cell_type": "code",
   "execution_count": 6,
   "metadata": {},
   "outputs": [
    {
     "data": {
      "image/png": "[encoded data removed]",
      "text/plain": [
       "<Figure size 640x480 with 1 Axes>"
      ]
     },
     "metadata": {},
     "output_type": "display_data"
    }
   ],
   "source": [
    "import matplotlib.pyplot as plt\n",
    "\n",
    "# 建立資料\n",
    "categories = ['A', 'B', 'C', 'D']\n",
    "values = [20, 35, 30, 25]\n",
    "\n",
    "# 繪製長條圖\n",
    "plt.bar(categories, values)\n",
    "\n",
    "# 設置x軸和y軸上的刻度\n",
    "plt.xticks(range(len(categories)), categories)\n",
    "plt.yticks(range(0, max(values)+1, 5))\n",
    "\n",
    "# 添加標籤和標題\n",
    "plt.xlabel('Category')\n",
    "plt.ylabel('Value')\n",
    "plt.title('Bar Chart Example')\n",
    "\n",
    "# 顯示圖表\n",
    "plt.show()\n"
   ]
  }
 ],
 "metadata": {
  "kernelspec": {
   "display_name": "base",
   "language": "python",
   "name": "python3"
  },
  "language_info": {
   "codemirror_mode": {
    "name": "ipython",
    "version": 3
   },
   "file_extension": ".py",
   "mimetype": "text/x-python",
   "name": "python",
   "nbconvert_exporter": "python",
   "pygments_lexer": "ipython3",
   "version": "3.9.13"
  }
 },
 "nbformat": 4,
 "nbformat_minor": 2
}
