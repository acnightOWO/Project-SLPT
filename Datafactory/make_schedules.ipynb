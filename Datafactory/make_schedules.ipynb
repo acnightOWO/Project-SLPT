{
 "cells": [
  {
   "cell_type": "code",
   "execution_count": 1,
   "metadata": {},
   "outputs": [],
   "source": [
    "import os\n",
    "Database_dir = r'..\\Dataset'\n",
    "file_list = os.listdir(Database_dir)\n",
    "\n",
    "Database = [os.path.join(Database_dir, file) for file in file_list if file.endswith('.mp4')]\n",
    "import json\n",
    "\n",
    "schedule = {'list': Database, 'progressive': 0}\n",
    "\n",
    "with open('schedule.json', 'w') as f:\n",
    "    json.dump(schedule, f)"
   ]
  }
 ],
 "metadata": {
  "kernelspec": {
   "display_name": "base",
   "language": "python",
   "name": "python3"
  },
  "language_info": {
   "codemirror_mode": {
    "name": "ipython",
    "version": 3
   },
   "file_extension": ".py",
   "mimetype": "text/x-python",
   "name": "python",
   "nbconvert_exporter": "python",
   "pygments_lexer": "ipython3",
   "version": "3.11.4"
  },
  "orig_nbformat": 4
 },
 "nbformat": 4,
 "nbformat_minor": 2
}
