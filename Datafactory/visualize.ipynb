{
 "cells": [
  {
   "cell_type": "code",
   "execution_count": 6,
   "metadata": {},
   "outputs": [],
   "source": [
    "import numpy as np\n",
    "import json\n",
    "import cv2\n",
    "from utils import random_rotate, random_scaling, offsetalize, extend"
   ]
  },
  {
   "cell_type": "code",
   "execution_count": 7,
   "metadata": {},
   "outputs": [],
   "source": [
    "x = [(i, i+1) for i in range(0,4)]+[(i, i+1) for i in range(5,8)]+[(i, i+1) for i in range(9,12)]+[(i, i+1) for i in range(13,16)]+[(i, i+1) for i in range(17,19)]+[(0,5),(0,17),(5,9),(9,13),(13,17)]\n",
    "connections = [i for i in x]+[ (i[0]+21, i[1]+21) for i in x]"
   ]
  },
  {
   "cell_type": "code",
   "execution_count": 11,
   "metadata": {},
   "outputs": [
    {
     "name": "stdout",
     "output_type": "stream",
     "text": [
      "(64, 42, 2) (300, 42, 2)\n"
     ]
    }
   ],
   "source": [
    "input_file = r\"C:\\Users\\Huang\\MaE Dataset-protatype\\outcome\\2021-1-29-1400_segments\\2021-1-29-1400_segment_17.json\"\n",
    "with open(input_file, 'r') as f:\n",
    "    coordinates = json.load(f)\n",
    "coordinates = np.array(coordinates)\n",
    "# coordinates = takeout_zero(coordinates)\n",
    "coordinates = random_rotate(coordinates)\n",
    "coordinates = random_scaling(coordinates)\n",
    "coordinates = offsetalize(coordinates)\n",
    "keypoint_coordinates = extend(coordinates, 300).astype(np.int16)\n",
    "print(coordinates.shape, keypoint_coordinates.shape)\n",
    "# 创建黑色背景\n",
    "background = 255 * np.ones((640, 640, 3), dtype=np.uint8)\n",
    "\n",
    "# 指定要连接的点的索引\n",
    "\n",
    "for keypoints in keypoint_coordinates:\n",
    "    # 创建黑色背景的副本\n",
    "    frame = background.copy()\n",
    "\n",
    "    # 绘制关键点\n",
    "    for i, keypoint in enumerate(keypoints):\n",
    "        x, y = keypoint[0], keypoint[1]\n",
    "        if i >= 21:\n",
    "            color = (0, 0, 255)\n",
    "        else:\n",
    "            color = (255, 0, 0)\n",
    "        if i == 41 or i == 20:\n",
    "            pass\n",
    "        else:\n",
    "            cv2.circle(frame, (x, y), 5, color, -1)\n",
    "\n",
    "    # 连接指定的点\n",
    "    for connection in connections:\n",
    "        start_point = tuple(keypoints[connection[0]])\n",
    "        end_point = tuple(keypoints[connection[1]])\n",
    "        cv2.line(frame, start_point, end_point, (0, 255, 0), 2)\n",
    "\n",
    "    cv2.imshow('Hand Key Points', frame)\n",
    "\n",
    "    if cv2.waitKey(100) & 0xFF == ord('q'):\n",
    "        break\n",
    "\n",
    "cv2.destroyAllWindows()"
   ]
  }
 ],
 "metadata": {
  "kernelspec": {
   "display_name": "v11-4",
   "language": "python",
   "name": "python3"
  },
  "language_info": {
   "codemirror_mode": {
    "name": "ipython",
    "version": 3
   },
   "file_extension": ".py",
   "mimetype": "text/x-python",
   "name": "python",
   "nbconvert_exporter": "python",
   "pygments_lexer": "ipython3",
   "version": "3.11.4"
  },
  "orig_nbformat": 4
 },
 "nbformat": 4,
 "nbformat_minor": 2
}
