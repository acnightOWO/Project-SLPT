{
 "cells": [
  {
   "cell_type": "code",
   "execution_count": 1,
   "metadata": {},
   "outputs": [],
   "source": [
    "import torch\n",
    "import torchvision\n",
    "from torch import nn\n",
    "\n",
    "from lightly.models import utils\n",
    "import masked_autoencoder\n",
    "from lightly.transforms.mae_transform import MAETransform\n",
    "from torchvision import transforms\n",
    "from torch.utils.data import DataLoader, Dataset\n",
    "\n",
    "from model import MAE\n",
    "import matplotlib.pyplot as plt\n",
    "import numpy as np\n",
    "import cv2\n",
    "import os\n",
    "from IPython.display import Video\n",
    "from tqdm.auto import tqdm, trange\n",
    "from utils import MPJPELoss, video_show\n",
    "CHECKPOINT_PATH = 'checkpoint.tar'\n",
    "\n",
    "\n",
    "checkpoint = torch.load(CHECKPOINT_PATH)\n",
    "step = checkpoint['step']\n",
    "mean = checkpoint['mean']\n",
    "std = checkpoint['std']\n",
    "\n",
    "from torchvision import transforms\n",
    "\n",
    "from utils import normalize_data, Node_Dataset, load_mean_std, get_time, Evaluate\n",
    "from torch.utils.data import DataLoader, Dataset\n",
    "test_dataset = Node_Dataset(r'test-dataset\\test-dataset', mean, std)\n",
    "testloader = DataLoader(test_dataset, batch_size=1, shuffle=True)"
   ]
  },
  {
   "cell_type": "code",
   "execution_count": null,
   "metadata": {},
   "outputs": [],
   "source": [
    "vit = torchvision.models.vit_b_16(weights=None)\n",
    "model = MAE(vit, 64, 80, 0.75)\n",
    "\n",
    "device = \"cuda\"\n",
    "model = model.to(device)"
   ]
  },
  {
   "cell_type": "code",
   "execution_count": null,
   "metadata": {},
   "outputs": [],
   "source": [
    "model_path = r'D:\\google drive\\MAE Bs PJ\\state_dict\\epoch 3-4200 weight.pt'\n",
    "model.load_state_dict(torch.load(model_path))\n",
    "criterion = MPJPELoss()"
   ]
  },
  {
   "cell_type": "code",
   "execution_count": null,
   "metadata": {},
   "outputs": [],
   "source": [
    "with torch.no_grad():\n",
    "    evaluate_loss, visual_prediction, visual_target = Evaluate(model, criterion, testloader)\n",
    "video = video_show(visual_prediction, visual_target, mean, std,r'video\\output.mp4')"
   ]
  },
  {
   "cell_type": "code",
   "execution_count": null,
   "metadata": {},
   "outputs": [],
   "source": []
  }
 ],
 "metadata": {
  "kernelspec": {
   "display_name": "v11-4",
   "language": "python",
   "name": "python3"
  },
  "language_info": {
   "codemirror_mode": {
    "name": "ipython",
    "version": 3
   },
   "file_extension": ".py",
   "mimetype": "text/x-python",
   "name": "python",
   "nbconvert_exporter": "python",
   "pygments_lexer": "ipython3",
   "version": "3.9.13"
  }
 },
 "nbformat": 4,
 "nbformat_minor": 2
}
