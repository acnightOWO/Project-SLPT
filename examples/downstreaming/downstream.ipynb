{
 "cells": [
  {
   "cell_type": "markdown",
   "metadata": {},
   "source": [
    "# shoot video"
   ]
  },
  {
   "cell_type": "code",
   "execution_count": 1,
   "metadata": {},
   "outputs": [],
   "source": [
    "import json \n",
    "from utils import clear_folder\n",
    "import os\n",
    "from tqdm.auto import tqdm\n",
    "import keyboard\n",
    "import time\n",
    "from utils_cam import web_cam, node_json, split_json, visualize, web_cam_photo\n",
    "import gdown\n",
    "gdown.download('https://drive.google.com/uc?id=1JFoJDHtsbXCw3cRg8u405pJD0QXMi5NE', \n",
    "               r'model\\epoch 3-4200 weight.pt')"
   ]
  },
  {
   "cell_type": "code",
   "execution_count": 8,
   "metadata": {},
   "outputs": [],
   "source": [
    "datasetfolder = 'dataset'\n",
    "class_name = '_'\n",
    "save_folder = os.path.join(datasetfolder, class_name)\n",
    "input_video = os.path.join(save_folder, 'output.mp4')\n",
    "input_json  = os.path.join(save_folder, 'nodes.json')\n",
    "time_mark_path=os.path.join(save_folder, 'time mark.json')\n",
    "output_folder = os.path.join(save_folder, class_name)\n",
    "os.makedirs(save_folder, exist_ok=True)"
   ]
  },
  {
   "cell_type": "code",
   "execution_count": 9,
   "metadata": {},
   "outputs": [
    {
     "name": "stdout",
     "output_type": "stream",
     "text": [
      "114 115\n",
      "(62, 42, 2)\n",
      "(64, 42, 2) (32, 42, 2)\n"
     ]
    }
   ],
   "source": [
    "# input_video = r\"C:\\Users\\Huang\\Downloads\\Taiwan.mp4\"\n",
    "web_cam(save_folder=save_folder, break_time=2)\n",
    "# web_cam_photo(img_path=img_path,save_folder=save_folder)\n",
    "node_json(input_video, save_folder)\n",
    "split_json(input_json, output_folder, time_mark_path)\n",
    "json_path = os.path.join(f'{datasetfolder}\\{class_name}\\{class_name}',os.listdir(f'{datasetfolder}\\{class_name}\\{class_name}')[-1])\n",
    "visualize(json_path, 32)"
   ]
  }
 ],
 "metadata": {
  "kernelspec": {
   "display_name": "base",
   "language": "python",
   "name": "python3"
  },
  "language_info": {
   "codemirror_mode": {
    "name": "ipython",
    "version": 3
   },
   "file_extension": ".py",
   "mimetype": "text/x-python",
   "name": "python",
   "nbconvert_exporter": "python",
   "pygments_lexer": "ipython3",
   "version": "3.9.13"
  }
 },
 "nbformat": 4,
 "nbformat_minor": 2
}
