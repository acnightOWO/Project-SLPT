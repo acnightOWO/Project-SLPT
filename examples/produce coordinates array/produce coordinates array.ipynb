{
 "cells": [
  {
   "cell_type": "markdown",
   "metadata": {},
   "source": [
    "# init the example"
   ]
  },
  {
   "cell_type": "code",
   "execution_count": null,
   "metadata": {},
   "outputs": [],
   "source": [
    "import gdown\n",
    "gdown.download('https://drive.google.com/uc?id=1JFoJDHtsbXCw3cRg8u405pJD0QXMi5NE', \n",
    "               r'Dataset\\2022-3-9-1400.srt')\n",
    "gdown.download('https://drive.google.com/uc?id=1JDI8KXdmwHPRtV3KIs3HkdRbPgSCsiWc', \n",
    "               r'Dataset\\2022-3-9-1400.mp4')"
   ]
  },
  {
   "cell_type": "code",
   "execution_count": 1,
   "metadata": {},
   "outputs": [],
   "source": [
    "import os\n",
    "from datafactory import integration\n",
    "import json\n",
    "import os\n",
    "Data_path = 'Dataset'\n",
    "input_video_path_list = os.listdir(Data_path)"
   ]
  },
  {
   "cell_type": "markdown",
   "metadata": {},
   "source": [
    "# produce"
   ]
  },
  {
   "cell_type": "code",
   "execution_count": null,
   "metadata": {},
   "outputs": [],
   "source": [
    "for video_path in input_video_path_list:\n",
    "    integration(os.path.join(Data_path, video_path))"
   ]
  }
 ],
 "metadata": {
  "kernelspec": {
   "display_name": "base",
   "language": "python",
   "name": "python3"
  },
  "language_info": {
   "codemirror_mode": {
    "name": "ipython",
    "version": 3
   },
   "file_extension": ".py",
   "mimetype": "text/x-python",
   "name": "python",
   "nbconvert_exporter": "python",
   "pygments_lexer": "ipython3",
   "version": "3.9.13"
  }
 },
 "nbformat": 4,
 "nbformat_minor": 2
}
