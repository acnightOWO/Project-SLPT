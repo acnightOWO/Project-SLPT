{
 "cells": [
  {
   "cell_type": "markdown",
   "metadata": {},
   "source": [
    "# init the example"
   ]
  },
  {
   "cell_type": "code",
   "execution_count": 1,
   "metadata": {},
   "outputs": [
    {
     "name": "stderr",
     "output_type": "stream",
     "text": [
      "Downloading...\n",
      "From: https://drive.google.com/uc?id=1JFoJDHtsbXCw3cRg8u405pJD0QXMi5NE\n",
      "To: d:\\Project-SEKAI\\Project-SEKAI\\examples\\produce coordinates array\\Dataset\\2022-3-9-1400.srt\n",
      "100%|██████████| 17.3k/17.3k [00:00<00:00, 17.3MB/s]\n",
      "Downloading...\n",
      "From: https://drive.google.com/uc?id=1JDI8KXdmwHPRtV3KIs3HkdRbPgSCsiWc\n",
      "To: d:\\Project-SEKAI\\Project-SEKAI\\examples\\produce coordinates array\\Dataset\\2022-3-9-1400.mp4\n",
      "100%|██████████| 244M/244M [00:21<00:00, 11.4MB/s] \n"
     ]
    },
    {
     "data": {
      "text/plain": [
       "'Dataset\\\\2022-3-9-1400.mp4'"
      ]
     },
     "execution_count": 1,
     "metadata": {},
     "output_type": "execute_result"
    }
   ],
   "source": [
    "import gdown\n",
    "gdown.download('https://drive.google.com/uc?id=1JFoJDHtsbXCw3cRg8u405pJD0QXMi5NE', \n",
    "               r'Dataset\\2022-3-9-1400.srt')\n",
    "gdown.download('https://drive.google.com/uc?id=1JDI8KXdmwHPRtV3KIs3HkdRbPgSCsiWc', \n",
    "               r'Dataset\\2022-3-9-1400.mp4')"
   ]
  },
  {
   "cell_type": "code",
   "execution_count": 2,
   "metadata": {},
   "outputs": [],
   "source": [
    "import os\n",
    "from datafactory import integration\n",
    "import json\n",
    "import os\n",
    "Data_path = 'Dataset'\n",
    "input_video_path_list = os.listdir(Data_path)"
   ]
  },
  {
   "cell_type": "markdown",
   "metadata": {},
   "source": [
    "# produce"
   ]
  },
  {
   "cell_type": "code",
   "execution_count": 3,
   "metadata": {},
   "outputs": [
    {
     "name": "stdout",
     "output_type": "stream",
     "text": [
      "378.06 1125.6\n"
     ]
    },
    {
     "data": {
      "application/vnd.jupyter.widget-view+json": {
       "model_id": "baef5ad3e13d4cf493a57ba4d83c326d",
       "version_major": 2,
       "version_minor": 0
      },
      "text/plain": [
       "Processing frames:   0%|          | 0/22404 [00:00<?, ?it/s]"
      ]
     },
     "metadata": {},
     "output_type": "display_data"
    },
    {
     "name": "stdout",
     "output_type": "stream",
     "text": [
      "Segment saved: segment_temporary/2022-3-9-1400_segments\\2022-3-9-1400_segment.mp4\n"
     ]
    },
    {
     "data": {
      "application/vnd.jupyter.widget-view+json": {
       "model_id": "f9eeb1af7d664ae986fcd6329511de2a",
       "version_major": 2,
       "version_minor": 0
      },
      "text/plain": [
       "Processing Video Frames:   0%|          | 0/22405 [00:00<?, ?it/s]"
      ]
     },
     "metadata": {},
     "output_type": "display_data"
    },
    {
     "ename": "FileNotFoundError",
     "evalue": "[Errno 2] No such file or directory: 'segment_temporary/2022-3-9-1400_segments\\\\2022-3-9-1400.json'",
     "output_type": "error",
     "traceback": [
      "\u001b[1;31m---------------------------------------------------------------------------\u001b[0m",
      "\u001b[1;31mFileNotFoundError\u001b[0m                         Traceback (most recent call last)",
      "\u001b[1;32m~\\AppData\\Local\\Temp\\ipykernel_392432\\2770343840.py\u001b[0m in \u001b[0;36m<module>\u001b[1;34m\u001b[0m\n\u001b[0;32m      1\u001b[0m \u001b[1;32mfor\u001b[0m \u001b[0mvideo_path\u001b[0m \u001b[1;32min\u001b[0m \u001b[0minput_video_path_list\u001b[0m\u001b[1;33m:\u001b[0m\u001b[1;33m\u001b[0m\u001b[1;33m\u001b[0m\u001b[0m\n\u001b[1;32m----> 2\u001b[1;33m     \u001b[0mintegration\u001b[0m\u001b[1;33m(\u001b[0m\u001b[0mos\u001b[0m\u001b[1;33m.\u001b[0m\u001b[0mpath\u001b[0m\u001b[1;33m.\u001b[0m\u001b[0mjoin\u001b[0m\u001b[1;33m(\u001b[0m\u001b[0mData_path\u001b[0m\u001b[1;33m,\u001b[0m \u001b[0mvideo_path\u001b[0m\u001b[1;33m)\u001b[0m\u001b[1;33m)\u001b[0m\u001b[1;33m\u001b[0m\u001b[1;33m\u001b[0m\u001b[0m\n\u001b[0m",
      "\u001b[1;32md:\\Project-SEKAI\\Project-SEKAI\\examples\\produce coordinates array\\datafactory.py\u001b[0m in \u001b[0;36mintegration\u001b[1;34m(input_video_path)\u001b[0m\n\u001b[0;32m     69\u001b[0m     \u001b[0mclip\u001b[0m\u001b[1;33m(\u001b[0m\u001b[0minput_video_path\u001b[0m\u001b[1;33m,\u001b[0m \u001b[0mbase_filename\u001b[0m\u001b[1;33m)\u001b[0m\u001b[1;33m\u001b[0m\u001b[1;33m\u001b[0m\u001b[0m\n\u001b[0;32m     70\u001b[0m     \u001b[0mnode_json\u001b[0m\u001b[1;33m(\u001b[0m\u001b[0mbase_filename\u001b[0m\u001b[1;33m)\u001b[0m\u001b[1;33m\u001b[0m\u001b[1;33m\u001b[0m\u001b[0m\n\u001b[1;32m---> 71\u001b[1;33m     \u001b[0msplit_json\u001b[0m\u001b[1;33m(\u001b[0m\u001b[0mbase_filename\u001b[0m\u001b[1;33m)\u001b[0m\u001b[1;33m\u001b[0m\u001b[1;33m\u001b[0m\u001b[0m\n\u001b[0m",
      "\u001b[1;32md:\\Project-SEKAI\\Project-SEKAI\\examples\\produce coordinates array\\datafactory.py\u001b[0m in \u001b[0;36msplit_json\u001b[1;34m(base_filename)\u001b[0m\n\u001b[0;32m     50\u001b[0m     \u001b[0mos\u001b[0m\u001b[1;33m.\u001b[0m\u001b[0mmakedirs\u001b[0m\u001b[1;33m(\u001b[0m\u001b[0moutput_folder\u001b[0m\u001b[1;33m,\u001b[0m \u001b[0mexist_ok\u001b[0m\u001b[1;33m=\u001b[0m\u001b[1;32mTrue\u001b[0m\u001b[1;33m)\u001b[0m\u001b[1;33m\u001b[0m\u001b[1;33m\u001b[0m\u001b[0m\n\u001b[0;32m     51\u001b[0m \u001b[1;33m\u001b[0m\u001b[0m\n\u001b[1;32m---> 52\u001b[1;33m     \u001b[1;32mwith\u001b[0m \u001b[0mopen\u001b[0m\u001b[1;33m(\u001b[0m\u001b[0mpath\u001b[0m\u001b[1;33m,\u001b[0m \u001b[1;34m'r'\u001b[0m\u001b[1;33m)\u001b[0m \u001b[1;32mas\u001b[0m \u001b[0mf\u001b[0m\u001b[1;33m:\u001b[0m\u001b[1;33m\u001b[0m\u001b[1;33m\u001b[0m\u001b[0m\n\u001b[0m\u001b[0;32m     53\u001b[0m         \u001b[0mcoordinates_jason\u001b[0m \u001b[1;33m=\u001b[0m \u001b[0mjson\u001b[0m\u001b[1;33m.\u001b[0m\u001b[0mload\u001b[0m\u001b[1;33m(\u001b[0m\u001b[0mf\u001b[0m\u001b[1;33m)\u001b[0m\u001b[1;33m\u001b[0m\u001b[1;33m\u001b[0m\u001b[0m\n\u001b[0;32m     54\u001b[0m \u001b[1;33m\u001b[0m\u001b[0m\n",
      "\u001b[1;31mFileNotFoundError\u001b[0m: [Errno 2] No such file or directory: 'segment_temporary/2022-3-9-1400_segments\\\\2022-3-9-1400.json'"
     ]
    }
   ],
   "source": [
    "for video_path in input_video_path_list:\n",
    "    integration(os.path.join(Data_path, video_path))"
   ]
  }
 ],
 "metadata": {
  "kernelspec": {
   "display_name": "base",
   "language": "python",
   "name": "python3"
  },
  "language_info": {
   "codemirror_mode": {
    "name": "ipython",
    "version": 3
   },
   "file_extension": ".py",
   "mimetype": "text/x-python",
   "name": "python",
   "nbconvert_exporter": "python",
   "pygments_lexer": "ipython3",
   "version": "3.9.13"
  }
 },
 "nbformat": 4,
 "nbformat_minor": 2
}
